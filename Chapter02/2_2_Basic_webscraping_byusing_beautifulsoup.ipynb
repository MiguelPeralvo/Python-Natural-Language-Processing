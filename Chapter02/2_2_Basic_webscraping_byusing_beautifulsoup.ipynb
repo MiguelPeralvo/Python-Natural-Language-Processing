{
 "cells": [
  {
   "cell_type": "code",
   "execution_count": 1,
   "metadata": {
    "collapsed": false
   },
   "outputs": [
    {
     "name": "stdout",
     "output_type": "stream",
     "text": [
      "simplify data science \n",
      "SDS\n",
      "I’m data science researcher by practice and data scientist by profession. I like to deal with data science related problems. My research interest lies into Big Data Analytics , Natural Language Processing , Machine Learning and Deep Learning.\n",
      "I am still learning myself, but I found that writing posts and tutorials is the best way to deepen my own understanding and knowledge. On this platform, I’m sharing my experiences and also coming up with tutorials for beginners and posting articles. I am happy to help in any way I can. So don’t hesitate to get in touch!\n"
     ]
    }
   ],
   "source": [
    "# Various ways to scrape the page here I'm using my own blog pages.\n",
    "\n",
    "import requests\n",
    "from bs4 import BeautifulSoup\n",
    "\n",
    "\n",
    "def Get_the_page_by_beautibulsoup():\n",
    "    page = requests.get(\"https://simplifydatascience.wordpress.com/about/\")\n",
    "    #print page.status_code\n",
    "    #print page.content\n",
    "    soup = BeautifulSoup(page.content, 'html.parser')\n",
    "    #print soup()\n",
    "    #print(soup.prettify()) #display source of the html page in readable format.\n",
    "    soup = BeautifulSoup(page.content, 'html.parser')\n",
    "    print soup.find_all('p')[0].get_text()\n",
    "    print soup.find_all('p')[1].get_text()\n",
    "    print soup.find_all('p')[2].get_text()\n",
    "    print soup.find_all('p')[3].get_text()\n",
    "\n",
    "\n",
    "if __name__ ==\"__main__\":\n",
    "    Get_the_page_by_beautibulsoup()"
   ]
  },
  {
   "cell_type": "code",
   "execution_count": null,
   "metadata": {
    "collapsed": true
   },
   "outputs": [],
   "source": []
  }
 ],
 "metadata": {
  "kernelspec": {
   "display_name": "Python 2",
   "language": "python",
   "name": "python2"
  },
  "language_info": {
   "codemirror_mode": {
    "name": "ipython",
    "version": 2
   },
   "file_extension": ".py",
   "mimetype": "text/x-python",
   "name": "python",
   "nbconvert_exporter": "python",
   "pygments_lexer": "ipython2",
   "version": "2.7.12"
  }
 },
 "nbformat": 4,
 "nbformat_minor": 2
}
