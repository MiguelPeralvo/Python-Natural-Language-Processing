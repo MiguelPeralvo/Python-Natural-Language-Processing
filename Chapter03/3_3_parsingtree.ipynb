{
 "cells": [
  {
   "cell_type": "code",
   "execution_count": 1,
   "metadata": {
    "collapsed": false
   },
   "outputs": [
    {
     "ename": "ImportError",
     "evalue": "No module named pycorenlp",
     "output_type": "error",
     "traceback": [
      "\u001b[0;31m\u001b[0m",
      "\u001b[0;31mImportError\u001b[0mTraceback (most recent call last)",
      "\u001b[0;32m<ipython-input-1-9c2fa67d0ccf>\u001b[0m in \u001b[0;36m<module>\u001b[0;34m()\u001b[0m\n\u001b[1;32m      5\u001b[0m \u001b[0;32mfrom\u001b[0m \u001b[0mnltk\u001b[0m \u001b[0;32mimport\u001b[0m \u001b[0mCFG\u001b[0m\u001b[0;34m\u001b[0m\u001b[0m\n\u001b[1;32m      6\u001b[0m \u001b[0;32mfrom\u001b[0m \u001b[0mnltk\u001b[0m\u001b[0;34m.\u001b[0m\u001b[0mtree\u001b[0m \u001b[0;32mimport\u001b[0m \u001b[0;34m*\u001b[0m\u001b[0;34m\u001b[0m\u001b[0m\n\u001b[0;32m----> 7\u001b[0;31m \u001b[0;32mfrom\u001b[0m \u001b[0mpycorenlp\u001b[0m \u001b[0;32mimport\u001b[0m \u001b[0mStanfordCoreNLP\u001b[0m\u001b[0;34m\u001b[0m\u001b[0m\n\u001b[0m\u001b[1;32m      8\u001b[0m \u001b[0;32mfrom\u001b[0m \u001b[0mcollections\u001b[0m \u001b[0;32mimport\u001b[0m \u001b[0mdefaultdict\u001b[0m\u001b[0;34m\u001b[0m\u001b[0m\n",
      "\u001b[0;31mImportError\u001b[0m: No module named pycorenlp"
     ]
    }
   ],
   "source": [
    "# This script is for generating parsing tree by using NLTK.\n",
    "# We are using python wrapper for stanford CoreNLP called-\"pycorenlp\" to generate Parsing result for us.B06923_03_09\n",
    "# NLTK gives us tree representation of stanford parser.\n",
    "import nltk\n",
    "from nltk import CFG\n",
    "from nltk.tree import *\n",
    "# TODO: Install pycorenlp according to instructions\n",
    "from pycorenlp import StanfordCoreNLP\n",
    "from collections import defaultdict"
   ]
  },
  {
   "cell_type": "code",
   "execution_count": 2,
   "metadata": {
    "collapsed": true
   },
   "outputs": [],
   "source": [
    "# Part 1: Define a grammar and generate parse result using NLTK\n",
    "def definegrammar_pasrereult():\n",
    "    Grammar = nltk.CFG.fromstring(\"\"\" \n",
    "    S -> NP VP \n",
    "    PP -> P NP \n",
    "    NP -> Det N | Det N PP | 'I' \n",
    "    VP -> V NP | VP PP \n",
    "    Det -> 'an' | 'my' \n",
    "    N -> 'elephant' | 'pajamas' \n",
    "    V -> 'shot' \n",
    "    P -> 'in' \n",
    "    \"\"\")\n",
    "    sent = \"I shot an elephant\".split()\n",
    "    parser = nltk.ChartParser(Grammar)\n",
    "    trees = parser.parse(sent)\n",
    "    for tree in trees:\n",
    "        print tree\n"
   ]
  },
  {
   "cell_type": "code",
   "execution_count": 3,
   "metadata": {
    "collapsed": true
   },
   "outputs": [],
   "source": [
    "# Part 2: Draw the parse tree\n",
    "def draw_parser_tree():\n",
    "    dp1 = Tree('dp', [Tree('d', ['the']), Tree('np', ['dog'])])\n",
    "    dp2 = Tree('dp', [Tree('d', ['the']), Tree('np', ['cat'])])\n",
    "    vp = Tree('vp', [Tree('v', ['chased']), dp2])\n",
    "    tree = Tree('s', [dp1, vp])\n",
    "    print(tree)\n",
    "    print(tree.pformat_latex_qtree())\n",
    "    tree.pretty_print()"
   ]
  },
  {
   "cell_type": "code",
   "execution_count": 4,
   "metadata": {
    "collapsed": true
   },
   "outputs": [],
   "source": [
    "# Part 3: Stanford parser wrapper library \"pycorenlp\"\n",
    "# you need to install pycorenlp as well as you need to download stanford-corenlp-full-* from standford corenlp website.\n",
    "def stanford_parsing_result():\n",
    "    text =\"\"\" I shot an elephant. The dog chased the cat. School go to boy. \"\"\"\n",
    "    nlp = StanfordCoreNLP('http://localhost:9000')\n",
    "    res = nlp.annotate(text, properties={\n",
    "        'annotators': 'tokenize,ssplit,pos,depparse,parse',\n",
    "        'outputFormat': 'json'\n",
    "    })\n",
    "    print(res['sentences'][0]['parse'])\n",
    "    print(res['sentences'][2]['parse'])"
   ]
  },
  {
   "cell_type": "code",
   "execution_count": 5,
   "metadata": {
    "collapsed": false
   },
   "outputs": [
    {
     "name": "stdout",
     "output_type": "stream",
     "text": [
      "\n",
      "--------Parsing result as per defined grammar-------\n",
      "(S (NP I) (VP (V shot) (NP (Det an) (N elephant))))\n",
      "\n",
      "--------Drawing Parse Tree-------\n",
      "(s (dp (d the) (np dog)) (vp (v chased) (dp (d the) (np cat))))\n",
      "\\Tree [.s\n",
      "        [.dp [.d the ] [.np dog ] ]\n",
      "        [.vp [.v chased ] [.dp [.d the ] [.np cat ] ] ] ]\n",
      "              s               \n",
      "      ________|_____           \n",
      "     |              vp        \n",
      "     |         _____|___       \n",
      "     dp       |         dp    \n",
      "  ___|___     |      ___|___   \n",
      " d       np   v     d       np\n",
      " |       |    |     |       |  \n",
      "the     dog chased the     cat\n",
      "\n",
      "\n",
      "--------Stanford Parser result------\n"
     ]
    },
    {
     "ename": "NameError",
     "evalue": "global name 'StanfordCoreNLP' is not defined",
     "output_type": "error",
     "traceback": [
      "\u001b[0;31m\u001b[0m",
      "\u001b[0;31mNameError\u001b[0mTraceback (most recent call last)",
      "\u001b[0;32m<ipython-input-5-d8a15c2f1c67>\u001b[0m in \u001b[0;36m<module>\u001b[0;34m()\u001b[0m\n\u001b[1;32m      5\u001b[0m     \u001b[0mdraw_parser_tree\u001b[0m\u001b[0;34m(\u001b[0m\u001b[0;34m)\u001b[0m\u001b[0;34m\u001b[0m\u001b[0m\n\u001b[1;32m      6\u001b[0m     \u001b[0;32mprint\u001b[0m \u001b[0;34m\"\\n--------Stanford Parser result------\"\u001b[0m\u001b[0;34m\u001b[0m\u001b[0m\n\u001b[0;32m----> 7\u001b[0;31m     \u001b[0mstanford_parsing_result\u001b[0m\u001b[0;34m(\u001b[0m\u001b[0;34m)\u001b[0m\u001b[0;34m\u001b[0m\u001b[0m\n\u001b[0m",
      "\u001b[0;32m<ipython-input-4-d9217687f2d3>\u001b[0m in \u001b[0;36mstanford_parsing_result\u001b[0;34m()\u001b[0m\n\u001b[1;32m      3\u001b[0m \u001b[0;32mdef\u001b[0m \u001b[0mstanford_parsing_result\u001b[0m\u001b[0;34m(\u001b[0m\u001b[0;34m)\u001b[0m\u001b[0;34m:\u001b[0m\u001b[0;34m\u001b[0m\u001b[0m\n\u001b[1;32m      4\u001b[0m     \u001b[0mtext\u001b[0m \u001b[0;34m=\u001b[0m\u001b[0;34m\"\"\" I shot an elephant. The dog chased the cat. School go to boy. \"\"\"\u001b[0m\u001b[0;34m\u001b[0m\u001b[0m\n\u001b[0;32m----> 5\u001b[0;31m     \u001b[0mnlp\u001b[0m \u001b[0;34m=\u001b[0m \u001b[0mStanfordCoreNLP\u001b[0m\u001b[0;34m(\u001b[0m\u001b[0;34m'http://localhost:9000'\u001b[0m\u001b[0;34m)\u001b[0m\u001b[0;34m\u001b[0m\u001b[0m\n\u001b[0m\u001b[1;32m      6\u001b[0m     res = nlp.annotate(text, properties={\n\u001b[1;32m      7\u001b[0m         \u001b[0;34m'annotators'\u001b[0m\u001b[0;34m:\u001b[0m \u001b[0;34m'tokenize,ssplit,pos,depparse,parse'\u001b[0m\u001b[0;34m,\u001b[0m\u001b[0;34m\u001b[0m\u001b[0m\n",
      "\u001b[0;31mNameError\u001b[0m: global name 'StanfordCoreNLP' is not defined"
     ]
    }
   ],
   "source": [
    "if __name__ == \"__main__\":\n",
    "    print \"\\n--------Parsing result as per defined grammar-------\"\n",
    "    definegrammar_pasrereult()\n",
    "    print \"\\n--------Drawing Parse Tree-------\"\n",
    "    draw_parser_tree()\n",
    "    print \"\\n--------Stanford Parser result------\"\n",
    "    stanford_parsing_result()"
   ]
  },
  {
   "cell_type": "code",
   "execution_count": null,
   "metadata": {
    "collapsed": true
   },
   "outputs": [],
   "source": []
  }
 ],
 "metadata": {
  "kernelspec": {
   "display_name": "Python 2",
   "language": "python",
   "name": "python2"
  },
  "language_info": {
   "codemirror_mode": {
    "name": "ipython",
    "version": 2
   },
   "file_extension": ".py",
   "mimetype": "text/x-python",
   "name": "python",
   "nbconvert_exporter": "python",
   "pygments_lexer": "ipython2",
   "version": "2.7.12"
  }
 },
 "nbformat": 4,
 "nbformat_minor": 2
}
