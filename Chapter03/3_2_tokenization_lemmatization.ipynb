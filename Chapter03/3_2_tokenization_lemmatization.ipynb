{
 "cells": [
  {
   "cell_type": "code",
   "execution_count": 1,
   "metadata": {
    "collapsed": true
   },
   "outputs": [],
   "source": [
    "# This script give you idea how tokenization and lemmatization has been placed by using NLTK.\n",
    "# It is part of lexical analysis\n",
    "from nltk.tokenize import word_tokenize\n",
    "from nltk.stem.wordnet import WordNetLemmatizer"
   ]
  },
  {
   "cell_type": "code",
   "execution_count": 2,
   "metadata": {
    "collapsed": true
   },
   "outputs": [],
   "source": [
    "def wordtokenization():\n",
    "    content = \"\"\"Stemming is funnier than a bummer says the sushi loving computer scientist.\n",
    "    She really wants to buy cars. She told me angrily. It is better for you.\n",
    "    Man is walking. We are meeting tomorrow. You really don't know..!\"\"\"\n",
    "    print word_tokenize(content)\n",
    "\n",
    "def wordlemmatization():\n",
    "    wordlemma = WordNetLemmatizer()\n",
    "    print wordlemma.lemmatize('cars')\n",
    "    print wordlemma.lemmatize('walking',pos='v')\n",
    "    print wordlemma.lemmatize('meeting',pos='n')\n",
    "    print wordlemma.lemmatize('meeting',pos='v')\n",
    "    print wordlemma.lemmatize('better',pos='a')\n",
    "    print wordlemma.lemmatize('is',pos='v')\n",
    "    print wordlemma.lemmatize('funnier',pos='a')\n",
    "    print wordlemma.lemmatize('expected',pos='v')\n",
    "    print wordlemma.lemmatize('fantasized',pos='v')"
   ]
  },
  {
   "cell_type": "code",
   "execution_count": 3,
   "metadata": {
    "collapsed": false
   },
   "outputs": [
    {
     "name": "stdout",
     "output_type": "stream",
     "text": [
      "['Stemming', 'is', 'funnier', 'than', 'a', 'bummer', 'says', 'the', 'sushi', 'loving', 'computer', 'scientist', '.', 'She', 'really', 'wants', 'to', 'buy', 'cars', '.', 'She', 'told', 'me', 'angrily', '.', 'It', 'is', 'better', 'for', 'you', '.', 'Man', 'is', 'walking', '.', 'We', 'are', 'meeting', 'tomorrow', '.', 'You', 'really', 'do', \"n't\", 'know..', '!']\n",
      "\n",
      "\n",
      "----------Word Lemmatization----------\n",
      "car\n",
      "walk\n",
      "meeting\n",
      "meet\n",
      "good\n",
      "be\n",
      "funny\n",
      "expect\n",
      "fantasize\n"
     ]
    }
   ],
   "source": [
    "if __name__ ==\"__main__\":\n",
    "    wordtokenization()\n",
    "    print \"\\n\"\n",
    "    print \"----------Word Lemmatization----------\"\n",
    "    wordlemmatization()"
   ]
  },
  {
   "cell_type": "code",
   "execution_count": null,
   "metadata": {
    "collapsed": true
   },
   "outputs": [],
   "source": []
  }
 ],
 "metadata": {
  "kernelspec": {
   "display_name": "Python 2",
   "language": "python",
   "name": "python2"
  },
  "language_info": {
   "codemirror_mode": {
    "name": "ipython",
    "version": 2
   },
   "file_extension": ".py",
   "mimetype": "text/x-python",
   "name": "python",
   "nbconvert_exporter": "python",
   "pygments_lexer": "ipython2",
   "version": "2.7.12"
  }
 },
 "nbformat": 4,
 "nbformat_minor": 2
}
