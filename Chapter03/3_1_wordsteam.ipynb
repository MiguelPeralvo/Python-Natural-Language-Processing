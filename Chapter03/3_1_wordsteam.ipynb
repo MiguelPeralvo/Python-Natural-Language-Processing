{
 "cells": [
  {
   "cell_type": "code",
   "execution_count": 11,
   "metadata": {
    "collapsed": false
   },
   "outputs": [
    {
     "name": "stdout",
     "output_type": "stream",
     "text": [
      "Ign http://cdn-fastly.deb.debian.org jessie InRelease\n",
      "Get:1 http://ppa.launchpad.net trusty InRelease [15.5 kB]\n",
      "Get:2 http://cdn-fastly.deb.debian.org jessie/updates InRelease [63.1 kB]\n",
      "Get:3 http://cdn-fastly.deb.debian.org jessie Release.gpg [2,373 B]\n",
      "Get:4 http://cdn-fastly.deb.debian.org jessie Release [148 kB]      \u001b[0m\u001b[33m\n",
      "Get:5 http://ppa.launchpad.net trusty/main amd64 Packages [8,302 B]33m\u001b[33m\n",
      "Get:6 http://cdn-fastly.deb.debian.org jessie/updates/main amd64 Packages [561 kB]\n",
      "Get:7 http://cdn-fastly.deb.debian.org jessie/main amd64 Packages [9,063 kB]\n",
      "Fetched 9,861 kB in 12s (786 kB/s)                                             \u001b[0m\u001b[33m\u001b[33m\u001b[33m\u001b[33m\u001b[33m\u001b[33m\u001b[33m\u001b[33m\u001b[33m\u001b[33m\u001b[33m\u001b[33m\u001b[33m\u001b[33m\n",
      "Reading package lists... Done\n",
      "Building dependency tree       \n",
      "Reading state information... Done\n",
      "75 packages can be upgraded. Run 'apt list --upgradable' to see them.\n"
     ]
    }
   ],
   "source": [
    "!sudo apt update"
   ]
  },
  {
   "cell_type": "code",
   "execution_count": 12,
   "metadata": {
    "collapsed": false
   },
   "outputs": [
    {
     "name": "stdout",
     "output_type": "stream",
     "text": [
      "Reading package lists... Done\n",
      "Building dependency tree       \n",
      "Reading state information... Done\n",
      "Note, selecting 'libpng12-dev' instead of 'libpng-dev'\n",
      "build-essential is already the newest version.\n",
      "g++ is already the newest version.\n",
      "g++ set to manually installed.\n",
      "python is already the newest version.\n",
      "python set to manually installed.\n",
      "The following extra packages will be installed:\n",
      "  icu-devtools javascript-common libbison-dev libfl-dev libfreetype6-dev\n",
      "  libicu52 libjpeg62-turbo-dev libjs-jquery libpthread-stubs0-dev libruby2.1\n",
      "  libsigsegv2 libssl-doc libx11-doc libxau-dev libxcb1-dev libxdmcp-dev m4\n",
      "  perl-base perl-modules pkg-config ruby2.1 rubygems-integration\n",
      "  x11proto-core-dev x11proto-input-dev x11proto-kb-dev x11proto-xext-dev\n",
      "  xorg-sgml-doctools xtrans-dev zlib1g-dev\n",
      "Suggested packages:\n",
      "  bison-doc apache2 lighttpd httpd icu-doc sqlite3-doc libxcb-doc libxext-doc\n",
      "  perl-doc libterm-readline-gnu-perl libterm-readline-perl-perl libb-lint-perl\n",
      "  libcpanplus-dist-build-perl libcpanplus-perl libfile-checktree-perl\n",
      "  liblog-message-simple-perl liblog-message-perl libobject-accessor-perl ri\n",
      "  ruby-dev bundler\n",
      "Recommended packages:\n",
      "  rename libarchive-extract-perl libmodule-pluggable-perl libpod-latex-perl\n",
      "  libterm-ui-perl libtext-soundex-perl libcgi-pm-perl libmodule-build-perl\n",
      "  libpackage-constants-perl\n",
      "The following NEW packages will be installed:\n",
      "  bison flex gperf icu-devtools javascript-common libbison-dev libfl-dev\n",
      "  libfontconfig1-dev libfreetype6-dev libicu-dev libjpeg-dev\n",
      "  libjpeg62-turbo-dev libjs-jquery libpng12-dev libpthread-stubs0-dev\n",
      "  libruby2.1 libsigsegv2 libsqlite3-dev libssl-dev libssl-doc libx11-dev\n",
      "  libx11-doc libxau-dev libxcb1-dev libxdmcp-dev libxext-dev m4 pkg-config\n",
      "  ruby ruby2.1 rubygems-integration x11proto-core-dev x11proto-input-dev\n",
      "  x11proto-kb-dev x11proto-xext-dev xorg-sgml-doctools xtrans-dev zlib1g-dev\n",
      "The following packages will be upgraded:\n",
      "  libfreetype6 libicu52 perl perl-base perl-modules\n",
      "5 upgraded, 38 newly installed, 0 to remove and 70 not upgraded.\n",
      "Need to get 37.4 MB of archives.\n",
      "After this operation, 96.5 MB of additional disk space will be used.\n",
      "Get:1 http://cdn-fastly.deb.debian.org/debian/ jessie/main perl amd64 5.20.2-3+deb8u8 [2,633 kB]\n",
      "Get:2 http://cdn-fastly.deb.debian.org/debian/ jessie/main perl-base amd64 5.20.2-3+deb8u8 [1,230 kB]\n",
      "Get:3 http://cdn-fastly.deb.debian.org/debian/ jessie/main perl-modules all 5.20.2-3+deb8u8 [2,547 kB]\n",
      "Get:4 http://cdn-fastly.deb.debian.org/debian/ jessie/main libsigsegv2 amd64 2.10-4+b1 [29.2 kB]\n",
      "Get:5 http://cdn-fastly.deb.debian.org/debian/ jessie/main m4 amd64 1.4.17-4 [254 kB]\n",
      "Get:6 http://cdn-fastly.deb.debian.org/debian/ jessie/main libfl-dev amd64 2.5.39-8+deb8u2 [75.3 kB]\n",
      "Get:7 http://cdn-fastly.deb.debian.org/debian/ jessie/main flex amd64 2.5.39-8+deb8u2 [421 kB]\n",
      "Get:8 http://cdn-fastly.deb.debian.org/debian/ jessie/main libfreetype6 amd64 2.5.2-3+deb8u2 [466 kB]\n",
      "Get:9 http://cdn-fastly.deb.debian.org/debian/ jessie/main libicu52 amd64 52.1-8+deb8u5 [6,801 kB]\n",
      "Get:10 http://cdn-fastly.deb.debian.org/debian/ jessie/main libbison-dev amd64 2:3.0.2.dfsg-2 [426 kB]\n",
      "Get:11 http://cdn-fastly.deb.debian.org/debian/ jessie/main bison amd64 2:3.0.2.dfsg-2 [765 kB]\n",
      "Get:12 http://cdn-fastly.deb.debian.org/debian/ jessie/main gperf amd64 3.0.4-1 [139 kB]\n",
      "Get:13 http://cdn-fastly.deb.debian.org/debian/ jessie/main icu-devtools amd64 52.1-8+deb8u5 [173 kB]\n",
      "Get:14 http://cdn-fastly.deb.debian.org/debian/ jessie/main javascript-common all 11 [6,120 B]\n",
      "Get:15 http://cdn-fastly.deb.debian.org/debian/ jessie/main zlib1g-dev amd64 1:1.2.8.dfsg-2+b1 [206 kB]\n",
      "Get:16 http://cdn-fastly.deb.debian.org/debian/ jessie/main libpng12-dev amd64 1.2.50-2+deb8u3 [248 kB]\n",
      "Get:17 http://cdn-fastly.deb.debian.org/debian/ jessie/main libfreetype6-dev amd64 2.5.2-3+deb8u2 [638 kB]\n",
      "Get:18 http://cdn-fastly.deb.debian.org/debian/ jessie/main pkg-config amd64 0.28-1 [57.5 kB]\n",
      "Get:19 http://cdn-fastly.deb.debian.org/debian/ jessie/main libfontconfig1-dev amd64 2.11.0-6.3+deb8u1 [895 kB]\n",
      "Get:20 http://cdn-fastly.deb.debian.org/debian/ jessie/main libicu-dev amd64 52.1-8+deb8u5 [7,669 kB]\n",
      "Get:21 http://cdn-fastly.deb.debian.org/debian/ jessie/main libjpeg62-turbo-dev amd64 1:1.3.1-12 [455 kB]\n",
      "Get:22 http://cdn-fastly.deb.debian.org/debian/ jessie/main libjpeg-dev all 1:1.3.1-12 [49.3 kB]\n",
      "Get:23 http://cdn-fastly.deb.debian.org/debian/ jessie/main libjs-jquery all 1.7.2+dfsg-3.2 [97.5 kB]\n",
      "Get:24 http://cdn-fastly.deb.debian.org/debian/ jessie/main libpthread-stubs0-dev amd64 0.3-4 [3,866 B]\n",
      "Get:25 http://cdn-fastly.deb.debian.org/debian/ jessie/main libsqlite3-dev amd64 3.8.7.1-1+deb8u2 [538 kB]\n",
      "Get:26 http://cdn-fastly.deb.debian.org/debian/ jessie/main libssl-dev amd64 1.0.1t-1+deb8u6 [1,283 kB]\n",
      "Get:27 http://cdn-fastly.deb.debian.org/debian/ jessie/main libssl-doc all 1.0.1t-1+deb8u6 [1,168 kB]\n",
      "Get:28 http://cdn-fastly.deb.debian.org/debian/ jessie/main xorg-sgml-doctools all 1:1.11-1 [21.9 kB]\n",
      "Get:29 http://cdn-fastly.deb.debian.org/debian/ jessie/main x11proto-core-dev all 7.0.26-1 [729 kB]\n",
      "Get:30 http://cdn-fastly.deb.debian.org/debian/ jessie/main libxau-dev amd64 1:1.0.8-1 [23.6 kB]\n",
      "Get:31 http://cdn-fastly.deb.debian.org/debian/ jessie/main libxdmcp-dev amd64 1:1.1.1-1+b1 [40.2 kB]\n",
      "Get:32 http://cdn-fastly.deb.debian.org/debian/ jessie/main x11proto-input-dev all 2.3.1-1 [157 kB]\n",
      "Get:33 http://cdn-fastly.deb.debian.org/debian/ jessie/main x11proto-kb-dev all 1.0.6-2 [269 kB]\n",
      "Get:34 http://cdn-fastly.deb.debian.org/debian/ jessie/main xtrans-dev all 1.3.4-1 [99.3 kB]\n",
      "Get:35 http://cdn-fastly.deb.debian.org/debian/ jessie/main libxcb1-dev amd64 1.10-3+b1 [83.8 kB]\n",
      "Get:36 http://cdn-fastly.deb.debian.org/debian/ jessie/main libx11-dev amd64 2:1.6.2-3 [800 kB]\n",
      "Get:37 http://cdn-fastly.deb.debian.org/debian/ jessie/main libx11-doc all 2:1.6.2-3 [2,026 kB]\n",
      "Get:38 http://cdn-fastly.deb.debian.org/debian/ jessie/main x11proto-xext-dev all 7.3.0-1 [212 kB]\n",
      "Get:39 http://cdn-fastly.deb.debian.org/debian/ jessie/main libxext-dev amd64 2:1.3.3-1 [107 kB]\n",
      "Get:40 http://cdn-fastly.deb.debian.org/debian/ jessie/main rubygems-integration all 1.8 [4,514 B]\n",
      "Get:41 http://cdn-fastly.deb.debian.org/debian/ jessie/main libruby2.1 amd64 2.1.5-2+deb8u3 [3,290 kB]\n",
      "Get:42 http://cdn-fastly.deb.debian.org/debian/ jessie/main ruby2.1 amd64 2.1.5-2+deb8u3 [276 kB]\n",
      "Get:43 http://cdn-fastly.deb.debian.org/debian/ jessie/main ruby all 1:2.1.5+deb8u2 [9,688 B]\n",
      "Fetched 37.4 MB in 35s (1,040 kB/s)                                            \n",
      "debconf: delaying package configuration, since apt-utils is not installed\n",
      "(Reading database ... 82886 files and directories currently installed.)\n",
      "Preparing to unpack .../perl_5.20.2-3+deb8u8_amd64.deb ...\n",
      "Unpacking perl (5.20.2-3+deb8u8) over (5.20.2-3+deb8u6) ...\n",
      "Preparing to unpack .../perl-base_5.20.2-3+deb8u8_amd64.deb ...\n",
      "Unpacking perl-base (5.20.2-3+deb8u8) over (5.20.2-3+deb8u6) ...\n",
      "Setting up perl-base (5.20.2-3+deb8u8) ...\n",
      "(Reading database ... 82886 files and directories currently installed.)\n",
      "Preparing to unpack .../perl-modules_5.20.2-3+deb8u8_all.deb ...\n",
      "Unpacking perl-modules (5.20.2-3+deb8u8) over (5.20.2-3+deb8u6) ...\n",
      "Selecting previously unselected package libsigsegv2:amd64.\n",
      "Preparing to unpack .../libsigsegv2_2.10-4+b1_amd64.deb ...\n",
      "Unpacking libsigsegv2:amd64 (2.10-4+b1) ...\n",
      "Selecting previously unselected package m4.\n",
      "Preparing to unpack .../archives/m4_1.4.17-4_amd64.deb ...\n",
      "Unpacking m4 (1.4.17-4) ...\n",
      "Selecting previously unselected package libfl-dev:amd64.\n",
      "Preparing to unpack .../libfl-dev_2.5.39-8+deb8u2_amd64.deb ...\n",
      "Unpacking libfl-dev:amd64 (2.5.39-8+deb8u2) ...\n",
      "Selecting previously unselected package flex.\n",
      "Preparing to unpack .../flex_2.5.39-8+deb8u2_amd64.deb ...\n",
      "Unpacking flex (2.5.39-8+deb8u2) ...\n",
      "Preparing to unpack .../libfreetype6_2.5.2-3+deb8u2_amd64.deb ...\n",
      "Unpacking libfreetype6:amd64 (2.5.2-3+deb8u2) over (2.5.2-3+deb8u1) ...\n",
      "Preparing to unpack .../libicu52_52.1-8+deb8u5_amd64.deb ...\n",
      "Unpacking libicu52:amd64 (52.1-8+deb8u5) over (52.1-8+deb8u4) ...\n",
      "Selecting previously unselected package libbison-dev:amd64.\n",
      "Preparing to unpack .../libbison-dev_2%3a3.0.2.dfsg-2_amd64.deb ...\n",
      "Unpacking libbison-dev:amd64 (2:3.0.2.dfsg-2) ...\n",
      "Selecting previously unselected package bison.\n",
      "Preparing to unpack .../bison_2%3a3.0.2.dfsg-2_amd64.deb ...\n",
      "Unpacking bison (2:3.0.2.dfsg-2) ...\n",
      "Selecting previously unselected package gperf.\n",
      "Preparing to unpack .../gperf_3.0.4-1_amd64.deb ...\n",
      "Unpacking gperf (3.0.4-1) ...\n",
      "Selecting previously unselected package icu-devtools.\n",
      "Preparing to unpack .../icu-devtools_52.1-8+deb8u5_amd64.deb ...\n",
      "Unpacking icu-devtools (52.1-8+deb8u5) ...\n",
      "Selecting previously unselected package javascript-common.\n",
      "Preparing to unpack .../javascript-common_11_all.deb ...\n",
      "Unpacking javascript-common (11) ...\n",
      "Selecting previously unselected package zlib1g-dev:amd64.\n",
      "Preparing to unpack .../zlib1g-dev_1%3a1.2.8.dfsg-2+b1_amd64.deb ...\n",
      "Unpacking zlib1g-dev:amd64 (1:1.2.8.dfsg-2+b1) ...\n",
      "Selecting previously unselected package libpng12-dev:amd64.\n",
      "Preparing to unpack .../libpng12-dev_1.2.50-2+deb8u3_amd64.deb ...\n",
      "Unpacking libpng12-dev:amd64 (1.2.50-2+deb8u3) ...\n",
      "Selecting previously unselected package libfreetype6-dev.\n",
      "Preparing to unpack .../libfreetype6-dev_2.5.2-3+deb8u2_amd64.deb ...\n",
      "Unpacking libfreetype6-dev (2.5.2-3+deb8u2) ...\n",
      "Selecting previously unselected package pkg-config.\n",
      "Preparing to unpack .../pkg-config_0.28-1_amd64.deb ...\n",
      "Unpacking pkg-config (0.28-1) ...\n",
      "Selecting previously unselected package libfontconfig1-dev:amd64.\n",
      "Preparing to unpack .../libfontconfig1-dev_2.11.0-6.3+deb8u1_amd64.deb ...\n",
      "Unpacking libfontconfig1-dev:amd64 (2.11.0-6.3+deb8u1) ...\n",
      "Selecting previously unselected package libicu-dev:amd64.\n",
      "Preparing to unpack .../libicu-dev_52.1-8+deb8u5_amd64.deb ...\n",
      "Unpacking libicu-dev:amd64 (52.1-8+deb8u5) ...\n",
      "Selecting previously unselected package libjpeg62-turbo-dev:amd64.\n",
      "Preparing to unpack .../libjpeg62-turbo-dev_1%3a1.3.1-12_amd64.deb ...\n",
      "Unpacking libjpeg62-turbo-dev:amd64 (1:1.3.1-12) ...\n",
      "Selecting previously unselected package libjpeg-dev.\n",
      "Preparing to unpack .../libjpeg-dev_1%3a1.3.1-12_all.deb ...\n",
      "Unpacking libjpeg-dev (1:1.3.1-12) ...\n",
      "Selecting previously unselected package libjs-jquery.\n",
      "Preparing to unpack .../libjs-jquery_1.7.2+dfsg-3.2_all.deb ...\n",
      "Unpacking libjs-jquery (1.7.2+dfsg-3.2) ...\n",
      "Selecting previously unselected package libpthread-stubs0-dev:amd64.\n",
      "Preparing to unpack .../libpthread-stubs0-dev_0.3-4_amd64.deb ...\n",
      "Unpacking libpthread-stubs0-dev:amd64 (0.3-4) ...\n",
      "Selecting previously unselected package libsqlite3-dev:amd64.\n",
      "Preparing to unpack .../libsqlite3-dev_3.8.7.1-1+deb8u2_amd64.deb ...\n",
      "Unpacking libsqlite3-dev:amd64 (3.8.7.1-1+deb8u2) ...\n",
      "Selecting previously unselected package libssl-dev:amd64.\n",
      "Preparing to unpack .../libssl-dev_1.0.1t-1+deb8u6_amd64.deb ...\n",
      "Unpacking libssl-dev:amd64 (1.0.1t-1+deb8u6) ...\n",
      "Selecting previously unselected package libssl-doc.\n",
      "Preparing to unpack .../libssl-doc_1.0.1t-1+deb8u6_all.deb ...\n",
      "Unpacking libssl-doc (1.0.1t-1+deb8u6) ...\n",
      "Selecting previously unselected package xorg-sgml-doctools.\n",
      "Preparing to unpack .../xorg-sgml-doctools_1%3a1.11-1_all.deb ...\n",
      "Unpacking xorg-sgml-doctools (1:1.11-1) ...\n",
      "Selecting previously unselected package x11proto-core-dev.\n",
      "Preparing to unpack .../x11proto-core-dev_7.0.26-1_all.deb ...\n",
      "Unpacking x11proto-core-dev (7.0.26-1) ...\n",
      "Selecting previously unselected package libxau-dev:amd64.\n",
      "Preparing to unpack .../libxau-dev_1%3a1.0.8-1_amd64.deb ...\n",
      "Unpacking libxau-dev:amd64 (1:1.0.8-1) ...\n",
      "Selecting previously unselected package libxdmcp-dev:amd64.\n",
      "Preparing to unpack .../libxdmcp-dev_1%3a1.1.1-1+b1_amd64.deb ...\n",
      "Unpacking libxdmcp-dev:amd64 (1:1.1.1-1+b1) ...\n",
      "Selecting previously unselected package x11proto-input-dev.\n",
      "Preparing to unpack .../x11proto-input-dev_2.3.1-1_all.deb ...\n",
      "Unpacking x11proto-input-dev (2.3.1-1) ...\n",
      "Selecting previously unselected package x11proto-kb-dev.\n",
      "Preparing to unpack .../x11proto-kb-dev_1.0.6-2_all.deb ...\n",
      "Unpacking x11proto-kb-dev (1.0.6-2) ...\n",
      "Selecting previously unselected package xtrans-dev.\n",
      "Preparing to unpack .../xtrans-dev_1.3.4-1_all.deb ...\n",
      "Unpacking xtrans-dev (1.3.4-1) ...\n",
      "Selecting previously unselected package libxcb1-dev:amd64.\n",
      "Preparing to unpack .../libxcb1-dev_1.10-3+b1_amd64.deb ...\n",
      "Unpacking libxcb1-dev:amd64 (1.10-3+b1) ...\n",
      "Selecting previously unselected package libx11-dev:amd64.\n",
      "Preparing to unpack .../libx11-dev_2%3a1.6.2-3_amd64.deb ...\n",
      "Unpacking libx11-dev:amd64 (2:1.6.2-3) ...\n",
      "Selecting previously unselected package libx11-doc.\n",
      "Preparing to unpack .../libx11-doc_2%3a1.6.2-3_all.deb ...\n",
      "Unpacking libx11-doc (2:1.6.2-3) ...\n",
      "Selecting previously unselected package x11proto-xext-dev.\n",
      "Preparing to unpack .../x11proto-xext-dev_7.3.0-1_all.deb ...\n",
      "Unpacking x11proto-xext-dev (7.3.0-1) ...\n",
      "Selecting previously unselected package libxext-dev:amd64.\n",
      "Preparing to unpack .../libxext-dev_2%3a1.3.3-1_amd64.deb ...\n",
      "Unpacking libxext-dev:amd64 (2:1.3.3-1) ...\n",
      "Selecting previously unselected package rubygems-integration.\n",
      "Preparing to unpack .../rubygems-integration_1.8_all.deb ...\n",
      "Unpacking rubygems-integration (1.8) ...\n",
      "Selecting previously unselected package libruby2.1:amd64.\n",
      "Preparing to unpack .../libruby2.1_2.1.5-2+deb8u3_amd64.deb ...\n",
      "Unpacking libruby2.1:amd64 (2.1.5-2+deb8u3) ...\n",
      "Selecting previously unselected package ruby2.1.\n",
      "Preparing to unpack .../ruby2.1_2.1.5-2+deb8u3_amd64.deb ...\n",
      "Unpacking ruby2.1 (2.1.5-2+deb8u3) ...\n",
      "Selecting previously unselected package ruby.\n",
      "Preparing to unpack .../ruby_1%3a2.1.5+deb8u2_all.deb ...\n",
      "Unpacking ruby (1:2.1.5+deb8u2) ...\n",
      "Setting up perl-modules (5.20.2-3+deb8u8) ...\n",
      "Setting up perl (5.20.2-3+deb8u8) ...\n",
      "Setting up libsigsegv2:amd64 (2.10-4+b1) ...\n",
      "Setting up m4 (1.4.17-4) ...\n",
      "Setting up libfl-dev:amd64 (2.5.39-8+deb8u2) ...\n",
      "Setting up flex (2.5.39-8+deb8u2) ...\n",
      "Setting up libfreetype6:amd64 (2.5.2-3+deb8u2) ...\n",
      "Setting up libicu52:amd64 (52.1-8+deb8u5) ...\n",
      "Setting up libbison-dev:amd64 (2:3.0.2.dfsg-2) ...\n",
      "Setting up bison (2:3.0.2.dfsg-2) ...\n",
      "update-alternatives: using /usr/bin/bison.yacc to provide /usr/bin/yacc (yacc) in auto mode\n",
      "Setting up gperf (3.0.4-1) ...\n",
      "Setting up icu-devtools (52.1-8+deb8u5) ...\n",
      "Setting up javascript-common (11) ...\n",
      "Setting up zlib1g-dev:amd64 (1:1.2.8.dfsg-2+b1) ...\n",
      "Setting up libpng12-dev:amd64 (1.2.50-2+deb8u3) ...\n",
      "Setting up libfreetype6-dev (2.5.2-3+deb8u2) ...\n",
      "Setting up pkg-config (0.28-1) ...\n",
      "Setting up libfontconfig1-dev:amd64 (2.11.0-6.3+deb8u1) ...\n",
      "Setting up libicu-dev:amd64 (52.1-8+deb8u5) ...\n",
      "Setting up libjpeg62-turbo-dev:amd64 (1:1.3.1-12) ...\n",
      "Setting up libjpeg-dev (1:1.3.1-12) ...\n",
      "Setting up libjs-jquery (1.7.2+dfsg-3.2) ...\n",
      "Setting up libpthread-stubs0-dev:amd64 (0.3-4) ...\n",
      "Setting up libsqlite3-dev:amd64 (3.8.7.1-1+deb8u2) ...\n",
      "Setting up libssl-dev:amd64 (1.0.1t-1+deb8u6) ...\n",
      "Setting up libssl-doc (1.0.1t-1+deb8u6) ...\n",
      "Setting up xorg-sgml-doctools (1:1.11-1) ...\n",
      "Setting up x11proto-core-dev (7.0.26-1) ...\n",
      "Setting up libxau-dev:amd64 (1:1.0.8-1) ...\n",
      "Setting up libxdmcp-dev:amd64 (1:1.1.1-1+b1) ...\n",
      "Setting up x11proto-input-dev (2.3.1-1) ...\n",
      "Setting up x11proto-kb-dev (1.0.6-2) ...\n",
      "Setting up xtrans-dev (1.3.4-1) ...\n",
      "Setting up libxcb1-dev:amd64 (1.10-3+b1) ...\n",
      "Setting up libx11-dev:amd64 (2:1.6.2-3) ...\n",
      "Setting up libx11-doc (2:1.6.2-3) ...\n",
      "Setting up x11proto-xext-dev (7.3.0-1) ...\n",
      "Setting up libxext-dev:amd64 (2:1.3.3-1) ...\n",
      "Setting up rubygems-integration (1.8) ...\n",
      "Setting up libruby2.1:amd64 (2.1.5-2+deb8u3) ...\n",
      "Setting up ruby2.1 (2.1.5-2+deb8u3) ...\n",
      "Setting up ruby (1:2.1.5+deb8u2) ...\n",
      "Processing triggers for libc-bin (2.19-18+deb8u7) ...\n"
     ]
    }
   ],
   "source": [
    "!sudo apt-get install build-essential g++ flex bison gperf ruby perl \\\n",
    "  libsqlite3-dev libfontconfig1-dev libicu-dev libfreetype6 libssl-dev \\\n",
    "  libpng-dev libjpeg-dev python libx11-dev libxext-dev -y"
   ]
  },
  {
   "cell_type": "code",
   "execution_count": 10,
   "metadata": {
    "collapsed": false
   },
   "outputs": [
    {
     "name": "stdout",
     "output_type": "stream",
     "text": [
      "Reading package lists... Done\n",
      "Building dependency tree       \n",
      "Reading state information... Done\n",
      "libicu-dev is already the newest version.\n",
      "0 upgraded, 0 newly installed, 0 to remove and 70 not upgraded.\n"
     ]
    }
   ],
   "source": [
    "!sudo apt-get install -y libicu-dev icu-devtools"
   ]
  },
  {
   "cell_type": "code",
   "execution_count": 13,
   "metadata": {
    "collapsed": false
   },
   "outputs": [
    {
     "name": "stdout",
     "output_type": "stream",
     "text": [
      "Collecting polyglot==16.7.4\n",
      "Requirement already satisfied: PyICU>=1.8 in /opt/conda/envs/python2/lib/python2.7/site-packages (from polyglot==16.7.4)\n",
      "Requirement already satisfied: morfessor>=2.0.2a1 in /opt/conda/envs/python2/lib/python2.7/site-packages (from polyglot==16.7.4)\n",
      "Requirement already satisfied: numpy>=1.6.1 in /opt/conda/envs/python2/lib/python2.7/site-packages (from polyglot==16.7.4)\n",
      "Requirement already satisfied: wheel>=0.23.0 in /opt/conda/envs/python2/lib/python2.7/site-packages (from polyglot==16.7.4)\n",
      "Requirement already satisfied: futures>=2.1.6 in /opt/conda/envs/python2/lib/python2.7/site-packages (from polyglot==16.7.4)\n",
      "Requirement already satisfied: pycld2>=0.3 in /opt/conda/envs/python2/lib/python2.7/site-packages (from polyglot==16.7.4)\n",
      "Requirement already satisfied: six>=1.7.3 in /opt/conda/envs/python2/lib/python2.7/site-packages (from polyglot==16.7.4)\n",
      "Installing collected packages: polyglot\n",
      "Successfully installed polyglot-16.7.4\n"
     ]
    }
   ],
   "source": [
    "! pip install polyglot==16.7.4"
   ]
  },
  {
   "cell_type": "code",
   "execution_count": 14,
   "metadata": {
    "collapsed": false
   },
   "outputs": [
    {
     "ename": "ImportError",
     "evalue": "/opt/conda/envs/python2/lib/python2.7/site-packages/_icu.so: undefined symbol: _ZTIN6icu_5214LEFontInstanceE",
     "output_type": "error",
     "traceback": [
      "\u001b[0;31m\u001b[0m",
      "\u001b[0;31mImportError\u001b[0mTraceback (most recent call last)",
      "\u001b[0;32m<ipython-input-14-dacdbec32dc7>\u001b[0m in \u001b[0;36m<module>\u001b[0;34m()\u001b[0m\n\u001b[1;32m      1\u001b[0m \u001b[0;32mfrom\u001b[0m \u001b[0mnltk\u001b[0m\u001b[0;34m.\u001b[0m\u001b[0mstem\u001b[0m \u001b[0;32mimport\u001b[0m \u001b[0mPorterStemmer\u001b[0m\u001b[0;34m\u001b[0m\u001b[0m\n\u001b[0;32m----> 2\u001b[0;31m \u001b[0;32mfrom\u001b[0m \u001b[0mpolyglot\u001b[0m\u001b[0;34m.\u001b[0m\u001b[0mtext\u001b[0m \u001b[0;32mimport\u001b[0m \u001b[0mText\u001b[0m\u001b[0;34m,\u001b[0m \u001b[0mWord\u001b[0m\u001b[0;34m\u001b[0m\u001b[0m\n\u001b[0m",
      "\u001b[0;32m/opt/conda/envs/python2/lib/python2.7/site-packages/polyglot/text.py\u001b[0m in \u001b[0;36m<module>\u001b[0;34m()\u001b[0m\n\u001b[1;32m      7\u001b[0m \u001b[0;34m\u001b[0m\u001b[0m\n\u001b[1;32m      8\u001b[0m \u001b[0;32mfrom\u001b[0m \u001b[0mpolyglot\u001b[0m\u001b[0;34m.\u001b[0m\u001b[0mbase\u001b[0m \u001b[0;32mimport\u001b[0m \u001b[0mSequence\u001b[0m\u001b[0;34m,\u001b[0m \u001b[0mTextFile\u001b[0m\u001b[0;34m,\u001b[0m \u001b[0mTextFiles\u001b[0m\u001b[0;34m\u001b[0m\u001b[0m\n\u001b[0;32m----> 9\u001b[0;31m \u001b[0;32mfrom\u001b[0m \u001b[0mpolyglot\u001b[0m\u001b[0;34m.\u001b[0m\u001b[0mdetect\u001b[0m \u001b[0;32mimport\u001b[0m \u001b[0mDetector\u001b[0m\u001b[0;34m,\u001b[0m \u001b[0mLanguage\u001b[0m\u001b[0;34m\u001b[0m\u001b[0m\n\u001b[0m\u001b[1;32m     10\u001b[0m \u001b[0;32mfrom\u001b[0m \u001b[0mpolyglot\u001b[0m\u001b[0;34m.\u001b[0m\u001b[0mdecorators\u001b[0m \u001b[0;32mimport\u001b[0m \u001b[0mcached_property\u001b[0m\u001b[0;34m\u001b[0m\u001b[0m\n\u001b[1;32m     11\u001b[0m \u001b[0;32mfrom\u001b[0m \u001b[0mpolyglot\u001b[0m\u001b[0;34m.\u001b[0m\u001b[0mdownloader\u001b[0m \u001b[0;32mimport\u001b[0m \u001b[0mDownloader\u001b[0m\u001b[0;34m\u001b[0m\u001b[0m\n",
      "\u001b[0;32m/opt/conda/envs/python2/lib/python2.7/site-packages/polyglot/detect/__init__.py\u001b[0m in \u001b[0;36m<module>\u001b[0;34m()\u001b[0m\n\u001b[0;32m----> 1\u001b[0;31m \u001b[0;32mfrom\u001b[0m \u001b[0;34m.\u001b[0m\u001b[0mbase\u001b[0m \u001b[0;32mimport\u001b[0m \u001b[0mDetector\u001b[0m\u001b[0;34m,\u001b[0m \u001b[0mLanguage\u001b[0m\u001b[0;34m\u001b[0m\u001b[0m\n\u001b[0m\u001b[1;32m      2\u001b[0m \u001b[0;34m\u001b[0m\u001b[0m\n\u001b[1;32m      3\u001b[0m \u001b[0m__all__\u001b[0m \u001b[0;34m=\u001b[0m \u001b[0;34m[\u001b[0m\u001b[0;34m'Detector'\u001b[0m\u001b[0;34m,\u001b[0m \u001b[0;34m'Language'\u001b[0m\u001b[0;34m]\u001b[0m\u001b[0;34m\u001b[0m\u001b[0m\n",
      "\u001b[0;32m/opt/conda/envs/python2/lib/python2.7/site-packages/polyglot/detect/base.py\u001b[0m in \u001b[0;36m<module>\u001b[0;34m()\u001b[0m\n\u001b[1;32m      9\u001b[0m \u001b[0;34m\u001b[0m\u001b[0m\n\u001b[1;32m     10\u001b[0m \u001b[0;34m\u001b[0m\u001b[0m\n\u001b[0;32m---> 11\u001b[0;31m \u001b[0;32mfrom\u001b[0m \u001b[0micu\u001b[0m \u001b[0;32mimport\u001b[0m \u001b[0mLocale\u001b[0m\u001b[0;34m\u001b[0m\u001b[0m\n\u001b[0m\u001b[1;32m     12\u001b[0m \u001b[0;32mimport\u001b[0m \u001b[0mpycld2\u001b[0m \u001b[0;32mas\u001b[0m \u001b[0mcld2\u001b[0m\u001b[0;34m\u001b[0m\u001b[0m\n\u001b[1;32m     13\u001b[0m \u001b[0;34m\u001b[0m\u001b[0m\n",
      "\u001b[0;32m/opt/conda/envs/python2/lib/python2.7/site-packages/icu/__init__.py\u001b[0m in \u001b[0;36m<module>\u001b[0;34m()\u001b[0m\n\u001b[1;32m     40\u001b[0m     \u001b[0;32mfrom\u001b[0m \u001b[0;34m.\u001b[0m\u001b[0mdocs\u001b[0m \u001b[0;32mimport\u001b[0m \u001b[0;34m*\u001b[0m\u001b[0;34m\u001b[0m\u001b[0m\n\u001b[1;32m     41\u001b[0m \u001b[0;32melse\u001b[0m\u001b[0;34m:\u001b[0m\u001b[0;34m\u001b[0m\u001b[0m\n\u001b[0;32m---> 42\u001b[0;31m     \u001b[0;32mfrom\u001b[0m \u001b[0mdocs\u001b[0m \u001b[0;32mimport\u001b[0m \u001b[0;34m*\u001b[0m\u001b[0;34m\u001b[0m\u001b[0m\n\u001b[0m",
      "\u001b[0;32m/opt/conda/envs/python2/lib/python2.7/site-packages/icu/docs.py\u001b[0m in \u001b[0;36m<module>\u001b[0;34m()\u001b[0m\n\u001b[1;32m     21\u001b[0m  \u001b[0;31m# ====================================================================\u001b[0m\u001b[0;34m\u001b[0m\u001b[0;34m\u001b[0m\u001b[0m\n\u001b[1;32m     22\u001b[0m \u001b[0;34m\u001b[0m\u001b[0m\n\u001b[0;32m---> 23\u001b[0;31m \u001b[0;32mfrom\u001b[0m \u001b[0m_icu\u001b[0m \u001b[0;32mimport\u001b[0m \u001b[0;34m*\u001b[0m\u001b[0;34m\u001b[0m\u001b[0m\n\u001b[0m\u001b[1;32m     24\u001b[0m \u001b[0;32mfrom\u001b[0m \u001b[0m_icu\u001b[0m \u001b[0;32mimport\u001b[0m \u001b[0m_install__doc__\u001b[0m\u001b[0;34m\u001b[0m\u001b[0m\n\u001b[1;32m     25\u001b[0m \u001b[0;34m\u001b[0m\u001b[0m\n",
      "\u001b[0;31mImportError\u001b[0m: /opt/conda/envs/python2/lib/python2.7/site-packages/_icu.so: undefined symbol: _ZTIN6icu_5214LEFontInstanceE"
     ]
    }
   ],
   "source": [
    "from nltk.stem import PorterStemmer\n",
    "from polyglot.text import Text, Word"
   ]
  },
  {
   "cell_type": "code",
   "execution_count": 4,
   "metadata": {
    "collapsed": true
   },
   "outputs": [],
   "source": [
    "word = \"unexpected\"\n",
    "text = \"disagreement\"\n",
    "text1 = \"disagree\"\n",
    "text2 = \"agreement\"\n",
    "text3 = \"quirkiness\"\n",
    "text4 = \"historical\"\n",
    "text5 = \"canonical\"\n",
    "text6 = \"happiness\"\n",
    "text7 = \"unkind\"\n",
    "text8 = \"dogs\"\n",
    "text9 = \"expected\"\n",
    "words_derv = [\"happiness\", \"unkind\"]\n",
    "word_infle = [\"dogs\", \"expected\"]\n",
    "words = [\"unexpected\", \"disagreement\", \"disagree\", \"agreement\", \"quirkiness\", \"canonical\" \"historical\"]"
   ]
  },
  {
   "cell_type": "code",
   "execution_count": 5,
   "metadata": {
    "collapsed": true
   },
   "outputs": [],
   "source": [
    "def stemmer_porter():\n",
    "    port = PorterStemmer()\n",
    "    print \"\\nDerivational Morphemes\"\n",
    "    print \" \".join([port.stem(i) for i in text6.split()])\n",
    "    print \" \".join([port.stem(i) for i in text7.split()])\n",
    "    print \"\\nInflectional  Morphemes\"\n",
    "    print \" \".join([port.stem(i) for i in text8.split()])\n",
    "    print \" \".join([port.stem(i) for i in text9.split()])\n",
    "    print \"\\nSome examples\"\n",
    "    print \" \".join([port.stem(i) for i in word.split()])\n",
    "    print \" \".join([port.stem(i) for i in text.split()])\n",
    "    print \" \".join([port.stem(i) for i in text1.split()])\n",
    "    print \" \".join([port.stem(i) for i in text2.split()])\n",
    "    print \" \".join([port.stem(i) for i in text3.split()])\n",
    "    print \" \".join([port.stem(i) for i in text4.split()])\n",
    "    print \" \".join([port.stem(i) for i in text5.split()])"
   ]
  },
  {
   "cell_type": "code",
   "execution_count": 6,
   "metadata": {
    "collapsed": true
   },
   "outputs": [],
   "source": [
    "def polyglot_stem():\n",
    "    print \"\\nDerivational Morphemes using polyglot library\"\n",
    "    for w in words_derv:\n",
    "        w = Word(w, language=\"en\")\n",
    "        print(\"{:<20}{}\".format(w, w.morphemes))\n",
    "    print \"\\nInflectional Morphemes using polyglot library\"\n",
    "    for w in word_infle:\n",
    "        w = Word(w, language=\"en\")\n",
    "        print(\"{:<20}{}\".format(w, w.morphemes))\n",
    "    print \"\\nSome Morphemes examples using polyglot library\"\n",
    "    for w in word_infle:\n",
    "        w = Word(w, language=\"en\")\n",
    "        print(\"{:<20}{}\".format(w, w.morphemes))"
   ]
  },
  {
   "cell_type": "code",
   "execution_count": 7,
   "metadata": {
    "collapsed": false
   },
   "outputs": [
    {
     "name": "stdout",
     "output_type": "stream",
     "text": [
      "\n",
      "Derivational Morphemes\n",
      "happi\n",
      "unkind\n",
      "\n",
      "Inflectional  Morphemes\n",
      "dog\n",
      "expect\n",
      "\n",
      "Some examples\n",
      "unexpect\n",
      "disagr\n",
      "disagre\n",
      "agreement\n",
      "quirki\n",
      "histor\n",
      "canon\n",
      "\n",
      "Derivational Morphemes using polyglot library\n"
     ]
    },
    {
     "ename": "NameError",
     "evalue": "global name 'Word' is not defined",
     "output_type": "error",
     "traceback": [
      "\u001b[0;31m\u001b[0m",
      "\u001b[0;31mNameError\u001b[0mTraceback (most recent call last)",
      "\u001b[0;32m<ipython-input-7-35c8238fe433>\u001b[0m in \u001b[0;36m<module>\u001b[0;34m()\u001b[0m\n\u001b[1;32m      1\u001b[0m \u001b[0;32mif\u001b[0m \u001b[0m__name__\u001b[0m \u001b[0;34m==\u001b[0m \u001b[0;34m\"__main__\"\u001b[0m\u001b[0;34m:\u001b[0m\u001b[0;34m\u001b[0m\u001b[0m\n\u001b[1;32m      2\u001b[0m     \u001b[0mstemmer_porter\u001b[0m\u001b[0;34m(\u001b[0m\u001b[0;34m)\u001b[0m\u001b[0;34m\u001b[0m\u001b[0m\n\u001b[0;32m----> 3\u001b[0;31m     \u001b[0mpolyglot_stem\u001b[0m\u001b[0;34m(\u001b[0m\u001b[0;34m)\u001b[0m\u001b[0;34m\u001b[0m\u001b[0m\n\u001b[0m",
      "\u001b[0;32m<ipython-input-6-920329e248b1>\u001b[0m in \u001b[0;36mpolyglot_stem\u001b[0;34m()\u001b[0m\n\u001b[1;32m      2\u001b[0m     \u001b[0;32mprint\u001b[0m \u001b[0;34m\"\\nDerivational Morphemes using polyglot library\"\u001b[0m\u001b[0;34m\u001b[0m\u001b[0m\n\u001b[1;32m      3\u001b[0m     \u001b[0;32mfor\u001b[0m \u001b[0mw\u001b[0m \u001b[0;32min\u001b[0m \u001b[0mwords_derv\u001b[0m\u001b[0;34m:\u001b[0m\u001b[0;34m\u001b[0m\u001b[0m\n\u001b[0;32m----> 4\u001b[0;31m         \u001b[0mw\u001b[0m \u001b[0;34m=\u001b[0m \u001b[0mWord\u001b[0m\u001b[0;34m(\u001b[0m\u001b[0mw\u001b[0m\u001b[0;34m,\u001b[0m \u001b[0mlanguage\u001b[0m\u001b[0;34m=\u001b[0m\u001b[0;34m\"en\"\u001b[0m\u001b[0;34m)\u001b[0m\u001b[0;34m\u001b[0m\u001b[0m\n\u001b[0m\u001b[1;32m      5\u001b[0m         \u001b[0;32mprint\u001b[0m\u001b[0;34m(\u001b[0m\u001b[0;34m\"{:<20}{}\"\u001b[0m\u001b[0;34m.\u001b[0m\u001b[0mformat\u001b[0m\u001b[0;34m(\u001b[0m\u001b[0mw\u001b[0m\u001b[0;34m,\u001b[0m \u001b[0mw\u001b[0m\u001b[0;34m.\u001b[0m\u001b[0mmorphemes\u001b[0m\u001b[0;34m)\u001b[0m\u001b[0;34m)\u001b[0m\u001b[0;34m\u001b[0m\u001b[0m\n\u001b[1;32m      6\u001b[0m     \u001b[0;32mprint\u001b[0m \u001b[0;34m\"\\nInflectional Morphemes using polyglot library\"\u001b[0m\u001b[0;34m\u001b[0m\u001b[0m\n",
      "\u001b[0;31mNameError\u001b[0m: global name 'Word' is not defined"
     ]
    }
   ],
   "source": [
    "if __name__ == \"__main__\":\n",
    "    stemmer_porter()\n",
    "    polyglot_stem()"
   ]
  },
  {
   "cell_type": "code",
   "execution_count": null,
   "metadata": {
    "collapsed": true
   },
   "outputs": [],
   "source": []
  }
 ],
 "metadata": {
  "kernelspec": {
   "display_name": "Python 2",
   "language": "python",
   "name": "python2"
  },
  "language_info": {
   "codemirror_mode": {
    "name": "ipython",
    "version": 2
   },
   "file_extension": ".py",
   "mimetype": "text/x-python",
   "name": "python",
   "nbconvert_exporter": "python",
   "pygments_lexer": "ipython2",
   "version": "2.7.12"
  }
 },
 "nbformat": 4,
 "nbformat_minor": 2
}
