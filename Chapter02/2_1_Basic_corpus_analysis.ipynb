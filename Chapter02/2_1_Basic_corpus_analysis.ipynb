{
 "cells": [
  {
   "cell_type": "markdown",
   "metadata": {},
   "source": [
    "## Section A : Basic Commands for accessing corpus"
   ]
  },
  {
   "cell_type": "markdown",
   "metadata": {},
   "source": [
    "## Import available corpus from NLTK"
   ]
  },
  {
   "cell_type": "code",
   "execution_count": 1,
   "metadata": {
    "collapsed": true
   },
   "outputs": [],
   "source": [
    "import nltk\n",
    "from nltk.corpus import brown as cb\n",
    "from nltk.corpus import gutenberg as cg"
   ]
  },
  {
   "cell_type": "code",
   "execution_count": 2,
   "metadata": {
    "collapsed": false
   },
   "outputs": [
    {
     "name": "stdout",
     "output_type": "stream",
     "text": [
      "['_LazyCorpusLoader__args', '_LazyCorpusLoader__kwargs', '_LazyCorpusLoader__name', '_LazyCorpusLoader__reader_cls', '__class__', '__delattr__', '__dict__', '__doc__', '__format__', '__getattribute__', '__hash__', '__init__', '__module__', '__name__', '__new__', '__reduce__', '__reduce_ex__', '__repr__', '__setattr__', '__sizeof__', '__str__', '__subclasshook__', '__unicode__', '__weakref__', '_add', '_get_root', '_init', '_resolve', 'abspath', 'abspaths', 'categories', 'citation', 'encoding', 'ensure_loaded', 'fileids', 'license', 'open', 'paras', 'raw', 'readme', 'root', 'sents', 'subdir', 'tagged_paras', 'tagged_sents', 'tagged_words', 'unicode_repr', 'words']\n"
     ]
    }
   ],
   "source": [
    "print dir(cb)"
   ]
  },
  {
   "cell_type": "code",
   "execution_count": 3,
   "metadata": {
    "collapsed": false
   },
   "outputs": [
    {
     "name": "stdout",
     "output_type": "stream",
     "text": [
      "[u'adventure', u'belles_lettres', u'editorial', u'fiction', u'government', u'hobbies', u'humor', u'learned', u'lore', u'mystery', u'news', u'religion', u'reviews', u'romance', u'science_fiction']\n"
     ]
    }
   ],
   "source": [
    "print cb.categories()"
   ]
  },
  {
   "cell_type": "code",
   "execution_count": 4,
   "metadata": {
    "collapsed": false
   },
   "outputs": [
    {
     "name": "stdout",
     "output_type": "stream",
     "text": [
      "[u'ca01', u'ca02', u'ca03', u'ca04', u'ca05', u'ca06', u'ca07', u'ca08', u'ca09', u'ca10', u'ca11', u'ca12', u'ca13', u'ca14', u'ca15', u'ca16', u'ca17', u'ca18', u'ca19', u'ca20', u'ca21', u'ca22', u'ca23', u'ca24', u'ca25', u'ca26', u'ca27', u'ca28', u'ca29', u'ca30', u'ca31', u'ca32', u'ca33', u'ca34', u'ca35', u'ca36', u'ca37', u'ca38', u'ca39', u'ca40', u'ca41', u'ca42', u'ca43', u'ca44', u'cb01', u'cb02', u'cb03', u'cb04', u'cb05', u'cb06', u'cb07', u'cb08', u'cb09', u'cb10', u'cb11', u'cb12', u'cb13', u'cb14', u'cb15', u'cb16', u'cb17', u'cb18', u'cb19', u'cb20', u'cb21', u'cb22', u'cb23', u'cb24', u'cb25', u'cb26', u'cb27', u'cc01', u'cc02', u'cc03', u'cc04', u'cc05', u'cc06', u'cc07', u'cc08', u'cc09', u'cc10', u'cc11', u'cc12', u'cc13', u'cc14', u'cc15', u'cc16', u'cc17', u'cd01', u'cd02', u'cd03', u'cd04', u'cd05', u'cd06', u'cd07', u'cd08', u'cd09', u'cd10', u'cd11', u'cd12', u'cd13', u'cd14', u'cd15', u'cd16', u'cd17', u'ce01', u'ce02', u'ce03', u'ce04', u'ce05', u'ce06', u'ce07', u'ce08', u'ce09', u'ce10', u'ce11', u'ce12', u'ce13', u'ce14', u'ce15', u'ce16', u'ce17', u'ce18', u'ce19', u'ce20', u'ce21', u'ce22', u'ce23', u'ce24', u'ce25', u'ce26', u'ce27', u'ce28', u'ce29', u'ce30', u'ce31', u'ce32', u'ce33', u'ce34', u'ce35', u'ce36', u'cf01', u'cf02', u'cf03', u'cf04', u'cf05', u'cf06', u'cf07', u'cf08', u'cf09', u'cf10', u'cf11', u'cf12', u'cf13', u'cf14', u'cf15', u'cf16', u'cf17', u'cf18', u'cf19', u'cf20', u'cf21', u'cf22', u'cf23', u'cf24', u'cf25', u'cf26', u'cf27', u'cf28', u'cf29', u'cf30', u'cf31', u'cf32', u'cf33', u'cf34', u'cf35', u'cf36', u'cf37', u'cf38', u'cf39', u'cf40', u'cf41', u'cf42', u'cf43', u'cf44', u'cf45', u'cf46', u'cf47', u'cf48', u'cg01', u'cg02', u'cg03', u'cg04', u'cg05', u'cg06', u'cg07', u'cg08', u'cg09', u'cg10', u'cg11', u'cg12', u'cg13', u'cg14', u'cg15', u'cg16', u'cg17', u'cg18', u'cg19', u'cg20', u'cg21', u'cg22', u'cg23', u'cg24', u'cg25', u'cg26', u'cg27', u'cg28', u'cg29', u'cg30', u'cg31', u'cg32', u'cg33', u'cg34', u'cg35', u'cg36', u'cg37', u'cg38', u'cg39', u'cg40', u'cg41', u'cg42', u'cg43', u'cg44', u'cg45', u'cg46', u'cg47', u'cg48', u'cg49', u'cg50', u'cg51', u'cg52', u'cg53', u'cg54', u'cg55', u'cg56', u'cg57', u'cg58', u'cg59', u'cg60', u'cg61', u'cg62', u'cg63', u'cg64', u'cg65', u'cg66', u'cg67', u'cg68', u'cg69', u'cg70', u'cg71', u'cg72', u'cg73', u'cg74', u'cg75', u'ch01', u'ch02', u'ch03', u'ch04', u'ch05', u'ch06', u'ch07', u'ch08', u'ch09', u'ch10', u'ch11', u'ch12', u'ch13', u'ch14', u'ch15', u'ch16', u'ch17', u'ch18', u'ch19', u'ch20', u'ch21', u'ch22', u'ch23', u'ch24', u'ch25', u'ch26', u'ch27', u'ch28', u'ch29', u'ch30', u'cj01', u'cj02', u'cj03', u'cj04', u'cj05', u'cj06', u'cj07', u'cj08', u'cj09', u'cj10', u'cj11', u'cj12', u'cj13', u'cj14', u'cj15', u'cj16', u'cj17', u'cj18', u'cj19', u'cj20', u'cj21', u'cj22', u'cj23', u'cj24', u'cj25', u'cj26', u'cj27', u'cj28', u'cj29', u'cj30', u'cj31', u'cj32', u'cj33', u'cj34', u'cj35', u'cj36', u'cj37', u'cj38', u'cj39', u'cj40', u'cj41', u'cj42', u'cj43', u'cj44', u'cj45', u'cj46', u'cj47', u'cj48', u'cj49', u'cj50', u'cj51', u'cj52', u'cj53', u'cj54', u'cj55', u'cj56', u'cj57', u'cj58', u'cj59', u'cj60', u'cj61', u'cj62', u'cj63', u'cj64', u'cj65', u'cj66', u'cj67', u'cj68', u'cj69', u'cj70', u'cj71', u'cj72', u'cj73', u'cj74', u'cj75', u'cj76', u'cj77', u'cj78', u'cj79', u'cj80', u'ck01', u'ck02', u'ck03', u'ck04', u'ck05', u'ck06', u'ck07', u'ck08', u'ck09', u'ck10', u'ck11', u'ck12', u'ck13', u'ck14', u'ck15', u'ck16', u'ck17', u'ck18', u'ck19', u'ck20', u'ck21', u'ck22', u'ck23', u'ck24', u'ck25', u'ck26', u'ck27', u'ck28', u'ck29', u'cl01', u'cl02', u'cl03', u'cl04', u'cl05', u'cl06', u'cl07', u'cl08', u'cl09', u'cl10', u'cl11', u'cl12', u'cl13', u'cl14', u'cl15', u'cl16', u'cl17', u'cl18', u'cl19', u'cl20', u'cl21', u'cl22', u'cl23', u'cl24', u'cm01', u'cm02', u'cm03', u'cm04', u'cm05', u'cm06', u'cn01', u'cn02', u'cn03', u'cn04', u'cn05', u'cn06', u'cn07', u'cn08', u'cn09', u'cn10', u'cn11', u'cn12', u'cn13', u'cn14', u'cn15', u'cn16', u'cn17', u'cn18', u'cn19', u'cn20', u'cn21', u'cn22', u'cn23', u'cn24', u'cn25', u'cn26', u'cn27', u'cn28', u'cn29', u'cp01', u'cp02', u'cp03', u'cp04', u'cp05', u'cp06', u'cp07', u'cp08', u'cp09', u'cp10', u'cp11', u'cp12', u'cp13', u'cp14', u'cp15', u'cp16', u'cp17', u'cp18', u'cp19', u'cp20', u'cp21', u'cp22', u'cp23', u'cp24', u'cp25', u'cp26', u'cp27', u'cp28', u'cp29', u'cr01', u'cr02', u'cr03', u'cr04', u'cr05', u'cr06', u'cr07', u'cr08', u'cr09']\n"
     ]
    }
   ],
   "source": [
    "print cb.fileids()"
   ]
  },
  {
   "cell_type": "code",
   "execution_count": 5,
   "metadata": {
    "collapsed": false
   },
   "outputs": [
    {
     "name": "stdout",
     "output_type": "stream",
     "text": [
      "[u'The', u'Fulton', u'County', u'Grand', u'Jury', u'said', u'Friday', u'an', u'investigation', u'of', u\"Atlanta's\", u'recent', u'primary', u'election', u'produced', u'``', u'no', u'evidence', u\"''\", u'that']\n"
     ]
    }
   ],
   "source": [
    "print cb.words()[0:20]"
   ]
  },
  {
   "cell_type": "code",
   "execution_count": 6,
   "metadata": {
    "collapsed": false
   },
   "outputs": [
    {
     "name": "stdout",
     "output_type": "stream",
     "text": [
      "[u\"Atlanta's\", u'recent', u'primary', u'election', u'produced', u'``', u'no', u'evidence', u\"''\", u'that', u'any', u'irregularities', u'took', u'place', u'.', u'The', u'jury', u'further', u'said', u'in']\n"
     ]
    }
   ],
   "source": [
    "print cb.words(categories='news')[10:30]   "
   ]
  },
  {
   "cell_type": "code",
   "execution_count": 7,
   "metadata": {
    "collapsed": false
   },
   "outputs": [
    {
     "name": "stdout",
     "output_type": "stream",
     "text": [
      "[u\"Atlanta's\", u'recent', u'primary', u'election', u'produced', u'``', u'no', u'evidence', u\"''\", u'that', u'any', u'irregularities', u'took', u'place', u'.', u'The', u'jury', u'further', u'said', u'in']\n"
     ]
    }
   ],
   "source": [
    "print cb.words(categories='news')[10:30]   "
   ]
  },
  {
   "cell_type": "code",
   "execution_count": 8,
   "metadata": {
    "collapsed": false
   },
   "outputs": [
    {
     "name": "stdout",
     "output_type": "stream",
     "text": [
      "[u'Does', u'our', u'society', u'have', u'a', ...]\n"
     ]
    }
   ],
   "source": [
    "print cb.words(fileids=['cg22'])"
   ]
  },
  {
   "cell_type": "code",
   "execution_count": 9,
   "metadata": {
    "collapsed": false
   },
   "outputs": [
    {
     "name": "stdout",
     "output_type": "stream",
     "text": [
      "[(u'The', u'AT'), (u'Fulton', u'NP-TL'), (u'County', u'NN-TL'), (u'Grand', u'JJ-TL'), (u'Jury', u'NN-TL'), (u'said', u'VBD'), (u'Friday', u'NR'), (u'an', u'AT'), (u'investigation', u'NN'), (u'of', u'IN')]\n"
     ]
    }
   ],
   "source": [
    "print cb.tagged_words()[0:10]"
   ]
  },
  {
   "cell_type": "code",
   "execution_count": 10,
   "metadata": {
    "collapsed": false
   },
   "outputs": [
    {
     "name": "stdout",
     "output_type": "stream",
     "text": [
      "<Text: The Fulton County Grand Jury said Friday an...>\n"
     ]
    }
   ],
   "source": [
    "raw_text = nltk.Text(cb.words('ca01'))\n",
    "print raw_text"
   ]
  },
  {
   "cell_type": "code",
   "execution_count": 11,
   "metadata": {
    "collapsed": false
   },
   "outputs": [
    {
     "name": "stdout",
     "output_type": "stream",
     "text": [
      "Displaying 18 of 18 matches:\n",
      "                                     Jury said Friday an investigation of Atla\n",
      " any irregularities took place . The jury further said in term-end presentment\n",
      "nducted . The September-October term jury had been charged by Fulton Superior \n",
      "f such reports was received '' , the jury said , `` considering the widespread\n",
      "s and the size of this city '' . The jury said it did find that many of Georgi\n",
      "ng and improving them '' . The grand jury commented on a number of other topic\n",
      "s '' . Merger proposed However , the jury said it believes `` these two office\n",
      "The City Purchasing Department , the jury said , `` is lacking in experienced \n",
      "was also recommended by the outgoing jury . It urged that the next Legislature\n",
      "e law may be effected '' . The grand jury took a swipe at the State Welfare De\n",
      " general assistance program '' , the jury said , but the State Welfare Departm\n",
      " burden '' on Fulton taxpayers . The jury also commented on the Fulton ordinar\n",
      "d compensation . Wards protected The jury said it found the court `` has incor\n",
      "om unmeritorious criticisms '' , the jury said . Regarding Atlanta's new multi\n",
      "w multi-million-dollar airport , the jury recommended `` that when the new man\n",
      "minate political influences '' . The jury did not elaborate , but it added tha\n",
      "jail deputies On other matters , the jury recommended that : ( 1 ) Four additi\n",
      "pension plan for city employes . The jury praised the administration and opera\n"
     ]
    }
   ],
   "source": [
    "raw_text.concordance(\"jury\")"
   ]
  },
  {
   "cell_type": "code",
   "execution_count": 12,
   "metadata": {
    "collapsed": false
   },
   "outputs": [
    {
     "name": "stdout",
     "output_type": "stream",
     "text": [
      "Displaying 1 of 1 matches:\n",
      "                                    recent primary election produced `` no evi\n"
     ]
    }
   ],
   "source": [
    "raw_text.concordance(\"recent\")"
   ]
  },
  {
   "cell_type": "code",
   "execution_count": 13,
   "metadata": {
    "collapsed": false
   },
   "outputs": [
    {
     "name": "stdout",
     "output_type": "stream",
     "text": [
      "No matches\n"
     ]
    }
   ],
   "source": [
    "raw_text.concordance(\"Music\")"
   ]
  },
  {
   "cell_type": "code",
   "execution_count": 14,
   "metadata": {
    "collapsed": false
   },
   "outputs": [
    {
     "name": "stdout",
     "output_type": "stream",
     "text": [
      "Austin/np-hl ,/,-hl Texas/np-hl \n",
      "--/-- Committee/nn approval/nn of/in Gov./nn-tl Price/np Daniel's/np$ ``/`` abandoned/vbn property/nn ''/'' act/nn seemed/vbd certain/jj Thursday/nr despite/in the/at adamant/jj protests/nns of/in Texas/np bankers/nns ./.\n",
      "\n",
      "\n",
      "\tDaniel/np personally/rb led/vbd the/at fight/nn for/in the/at measure/nn ,/, which/wdt he/pps had/hvd watered/vbn down/rp considerably/rb since/in its/pp$ rejection/nn by/in two/cd previous/jj Legislatures/nns-tl ,/, in/in a/at public/jj hearing/nn before/in the/at House/nn-tl Committee/nn-tl on/in-tl Revenue/nn-tl and/cc-tl Taxation/nn-tl ./.\n",
      "\n",
      "\n",
      "\tUnder/in committee/nn rules/nns ,/, it/pps went/vbd automatically/rb to/in a/at subcommittee/nn for/in one/cd week/nn ./.\n",
      "But/cc questions/nns with/in which/wdt committee/nn members/nns taunted/vbd bankers/nns appearing/vbg as/cs witnesses/nns left/vbd little/ap doubt/nn that/cs they/ppss will/md recommend/vb passage/nn of/in it/ppo ./.\n",
      "\n",
      "\n",
      "\tDaniel/np termed/vbd ``/`` extremely/rb conservative/jj ''/'' his/pp$ estimate/nn that/cs it/pps would/md produce/vb 17/cd million/cd dollars/nns to/to help/vb erase/vb an/at anticipated/vbn deficit/nn of/in 63/cd million/cd dollars/nns at/in the/at end/nn of/in the/at current/jj fiscal/jj year/nn next/ap Aug./np 31/cd ./.\n",
      "\n",
      "\n",
      "\tHe/pps told/vbd the/at committee/nn the/at measure/nn would/md merely/rb provide/vb means/nns of/in enforcing/vbg the/at escheat/nn law/nn which/wdt has/hvz been/ben on/in the/at books/nns ``/`` since/in Texas/np was/bedz a/at republic/nn ''/'' ./.\n",
      "It/pps permits/vbz the/at state/nn to/to take/vb over/rp bank/nn accounts/nns ,/, stocks/nns and/cc other/ap personal/jj property/nn of/in persons/nns missing/vbg for/in seven/cd years/nns or/cc more/ap ./.\n",
      "\n",
      "\n",
      "\tThe/at bill/nn ,/, which/wdt Daniel/np said/vbd he/pps drafted/vbd personally/rb ,/, would/md force/vb banks/nns ,/, insurance/nn firms/nns ,/, pipeline/nn companies/nns and/cc other/ap corporations/nns to/to report/vb such/jj property/nn to/in the/at state/nn treasurer/nn ./.\n",
      "The/at escheat/nn law/nn cannot/md* be/be enforced/vbn now/rb because/cs it/pps is/bez almost/rb impossible/jj to/to locate/vb such/jj property/nn ,/, Daniel/np declared/vbd ./.\n",
      "\n",
      "\n",
      "\tDewey/np Lawrence/np ,/, a/at Tyler/np lawyer/nn representing/vbg the/at Texas/np-tl Bankers/nns-tl Association/nn-tl ,/, sounded/vbd the/at opposition/nn keynote/nn when/wrb he/pps said/vbd it/pps would/md force/vb banks/nns to/to violate/vb their/pp$ contractual/jj obligations/nns with/in depositors/nns and/cc undermine/vb the/at confidence/nn of/in bank/nn customers/nns ./.\n",
      "\n",
      "\n",
      "\t``/`` If/cs you/ppss destroy/vb confidence/nn in/in banks/nns ,/, you/ppss do/do something/pn to/in the/at economy/nn ''/'' ,/, he/pps said/vbd ./.\n",
      "``/`` You/ppss take/vb out/rp of/in circulation/nn many/ap millions/nns of/in dollars/nns ''/'' ./.\n",
      "\n",
      "\n",
      "\tRep./nn-tl Charles/np E./np Hughes/np of/in Sherman/np ,/, sponsor/nn of/in the/at bill/nn ,/, said/vbd a/at failure/nn to/to enact/vb it/pps would/md amount/vb ``/`` to/in making/vbg a/at gift/nn out/rp of/in the/at taxpayers'/nns$ pockets/nns to/in banks/nns ,/, insurance/nn and/cc pipeline/nn companies/nns ''/'' ./.\n",
      "\n",
      "\n",
      "\tHis/pp$ contention/nn was/bedz denied/vbn by/in several/ap bankers/nns ,/, including/in Scott/np Hudson/np of/in Sherman/np ,/, Gaynor/np B./np Jones/np of/in Houston/np ,/, J./np B./np Brady/np of/in Harlingen/np and/cc Howard/np Cox/np of/in Austin/np ./.\n",
      "\n",
      "\n",
      "\tCox/np argued/vbd that/cs the/at bill/nn is/bez ``/`` probably/rb unconstitutional/jj ''/'' since/cs ,/, he/pps said/vbd ,/, it/pps would/md impair/vb contracts/nns ./.\n",
      "\n",
      "\n",
      "\tHe/pps also/rb complained/vbd that/cs not/* enough/ap notice/nn was/bedz given/vbn on/in the/at hearing/nn ,/, since/cs the/at bill/nn was/bedz introduced/vbn only/rb last/ap Monday/nr ./.\n",
      "Austin/np-hl ,/,-hl Texas/np-hl \n",
      "--/-- Senators/nns unanimously/rb approved/vbd Thursday/nr the/at bill/nn of/in Sen./nn-tl George/np Parkhouse/np of/in Dallas/np authorizing/vbg establishment/nn of/in day/nn schools/nns for/in the/at deaf/jj in/in Dallas/np and/cc the/at four/cd other/ap largest/jjt counties/nns ./.\n",
      "\n",
      "\n",
      "\tThe/at bill/nn is/bez designed/vbn to/to provide/vb special/jj schooling/nn for/in more/ap deaf/jj students/nns in/in the/at scholastic/jj age/nn at/in a/at reduced/vbn cost/nn to/in the/at state/nn ./.\n",
      "\n",
      "\n",
      "\tThere/ex was/bedz no/at debate/nn as/cs the/at Senate/nn-tl passed/vbd the/at bill/nn on/in to/in the/at House/nn-tl ./.\n",
      "\n",
      "\n",
      "\tIt/pps would/md authorize/vb the/at Texas/np-tl Education/nn-tl Agency/nn-tl to/to establish/vb county-wide/jj day/nn schools/nns for/in the/at deaf/jj in/in counties/nns of/in 300,000/cd or/cc more/ap population/nn ,/, require/vb deaf/jj children/nns between/in 6/cd and/cc 13/cd years/nns of/in age/nn to/to attend/vb the/at day/nn schools/nns ,/, permitting/vbg older/jjr ones/nns to/to attend/vb the/at residential/jj Texas/np-tl School/nn-tl for/in-tl the/at-tl Deaf/jj-tl here/rb ./.\n",
      "\n",
      "\n",
      "\tOperating/vbg budget/nn for/in the/at day/nn schools/nns in/in the/at five/cd counties/nns of/in Dallas/np ,/, Harris/np ,/, Bexar/np ,/, Tarrant/np and/cc El/np Paso/np would/md be/be $451,500/nns ,/, which/wdt would/md be/be a/at savings/nns of/in $157,460/nns yearly/rb after/in the/at first/od year's/nn$ capital/nn outlay/nn of/in $88,000/nns was/bedz absorbed/vbn ,/, Parkhouse/np told/vbd the/at Senate/nn-tl ./.\n",
      "\n",
      "\n",
      "\tThe/at TEA/nn estimated/vbd there/ex would/md be/be 182/cd scholastics/nns to/to attend/vb the/at day/nn school/nn in/in Dallas/np-tl County/nn-tl ,/, saving/vbg them/ppo from/in coming/vbg to/in Austin/np to/to live/vb in/in the/at state/nn deaf/jj school/nn ./.\n",
      "\n",
      "\n",
      "\n",
      "\n",
      "Dallas/np may/md get/vb to/to hear/vb a/at debate/nn on/in horse/nn race/nn parimutuels/nns soon/rb between/in Reps./nns-tl V./np E./np (/( Red/np )/) Berry/np and/cc Joe/np Ratcliff/np ./.\n",
      "\n",
      "\n",
      "\tWhile/cs details/nns are/ber still/rb to/to be/be worked/vbn out/rp ,/, Ratcliff/np said/vbd he/pps expects/vbz to/to tell/vb home/nr folks/nns in/in Dallas/np why/wrb he/pps thinks/vbz Berry's/np$ proposed/vbn constitutional/jj amendment/nn should/md be/be rejected/vbn ./.\n",
      "\n",
      "\n",
      "\t``/`` We're/ppss+ber getting/vbg more/ap '/' pro/jj '/' letters/nns than/in '/' con/jj '/' on/in horse/nn race/nn betting/nn ''/'' ,/, said/vbd Ratcliff/np ./.\n",
      "``/`` But/cc I/ppss believe/vb if/cs people/nns were/bed better/rbr informed/vbn on/in this/dt question/nn ,/, most/ap of/in them/ppo would/md oppose/vb it/ppo also/rb ./.\n",
      "I'm/ppss+bem willing/jj to/to stake/vb my/pp$ political/jj career/nn on/in it/ppo ''/'' ./.\n",
      "\n",
      "\n",
      "\tRep./nn-tl Berry/np ,/, an/at ex-gambler/nn from/in San/np Antonio/np ,/, got/vbd elected/vbn on/in his/pp$ advocacy/nn of/in betting/vbg on/in the/at ponies/nns ./.\n",
      "A/at House/nn-tl committee/nn which/wdt heard/vbd his/pp$ local/jj option/nn proposal/nn is/bez expected/vbn to/to give/vb it/ppo a/at favorable/jj report/nn ,/, although/cs the/at resolution/nn faces/vbz hard/jj sledding/nn later/rbr ./.\n",
      "\n",
      "\n",
      "\n",
      "\n",
      "The/at house/nn passed/vbd finally/rb ,/, and/cc sent/vbd to/in the/at Senate/nn-tl ,/, a/at bill/nn extending/vbg the/at State/nn-tl Health/nn-tl Department's/nn$-tl authority/nn to/to give/vb planning/vbg assistance/nn to/in cities/nns ./.\n",
      "\n",
      "\n",
      "\n",
      "\n",
      "The/at senate/nn quickly/rb whipped/vbd through/in its/pp$ meager/jj fare/nn of/in House/nn-tl bills/nns approved/vbn by/in committees/nns ,/, passing/vbg the/at three/cd on/in the/at calendar/nn ./.\n",
      "One/cd validated/vbd acts/nns of/in school/nn districts/nns ./.\n",
      "Another/dt enlarged/vbd authority/nn of/in the/at Beaumont/np-tl Navigation/nn-tl District/nn-tl ./.\n",
      "\n",
      "\n",
      "\tThe/at third/od amended/vbd the/at enabling/vbg act/nn for/in creation/nn of/in the/at Lamar/np-tl county/nn-tl Hospital/nn-tl District/nn-tl ,/, for/in which/wdt a/at special/jj constitutional/jj amendment/nn previously/rb was/bedz adopted/vbn ./.\n",
      "\n",
      "\n",
      "\n",
      "\n",
      "Without/in dissent/nn ,/, senators/nns passed/vbd a/at bill/nn by/in Sen./nn-tl A./np R./np Schwartz/np of/in Galveston/np authorizing/vbg establishment/nn in/in the/at future/nn of/in a/at school/nn for/in the/at mentally/rb retarded/vbn in/in the/at Gulf/nn-tl Coast/nn-tl district/nn ./.\n",
      "Money/nn for/in its/pp$ construction/nn will/md be/be sought/vbn later/rbr on/rp but/cc in/in the/at meantime/nn the/at State/nn-tl Hospital/nn-tl board/nn can/md accept/vb gifts/nns and/cc donations/nns of/in a/at site/nn ./.\n",
      "\n",
      "\n",
      "\n",
      "\n",
      "Two/cd tax/nn revision/nn bills/nns were/bed passed/vbn ./.\n",
      "One/cd ,/, by/in Sen./nn-tl Louis/np Crump/np of/in San/np Saba/np ,/, would/md aid/vb more/ap than/in 17,000/cd retailers/nns who/wps pay/vb a/at group/nn of/in miscellaneous/jj excise/nn taxes/nns by/in eliminating/vbg the/at requirement/nn that/cs each/dt return/nn be/be notarized/vbn ./.\n",
      "Instead/rb ,/, retailers/nns would/md sign/vb a/at certificate/nn of/in correctness/nn ,/, violation/nn of/in which/wdt would/md carry/vb a/at penalty/nn of/in one/cd to/in five/cd years/nns in/in prison/nn ,/, plus/cc a/at $1,000/nns fine/nn ./.\n",
      "It/pps was/bedz one/cd of/in a/at series/nn of/in recommendations/nns by/in the/at Texas/np-tl Research/nn-tl League/nn-tl ./.\n",
      "\n",
      "\n",
      "\n",
      "\n",
      "The/at other/ap bill/nn ,/, by/in Sen./nn-tl A./np M./np Aikin/np Jr./np of/in Paris/np ,/, would/md relieve/vb real/jj estate/nn brokers/nns ,/, who/wps pay/vb their/pp$ own/jj annual/jj licensing/vbg fee/nn ,/, from/in the/at $12/nns annual/jj occupation/nn license/nn on/in brokers/nns in/in such/jj as/cs stocks/nns and/cc bonds/nns ./.\n",
      "\n",
      "\n",
      "\n",
      "\n",
      "Natural/jj gas/nn public/jj utility/nn companies/nns would/md be/be given/vbn the/at right/nn of/in eminent/jj domain/nn ,/, under/in a/at bill/nn by/in Sen./nn-tl Frank/np Owen/np 3/cd-tl ,/, of/in El/np Paso/np ,/, to/to acquire/vb sites/nns for/in underground/jj storage/nn reservoirs/nns for/in gas/nn ./.\n",
      "\n",
      "\n",
      "\n",
      "\n",
      "Marshall/np Formby/np of/in Plainview/np ,/, former/ap chairman/nn of/in the/at Texas/np-tl Highway/nn-tl Commission/nn-tl ,/, suggested/vbd a/at plan/nn to/to fill/vb by/in appointment/nn future/jj vacancies/nns in/in the/at Legislature/nn-tl and/cc Congress/np ,/, eliminating/vbg the/at need/nn for/in costly/jj special/jj elections/nns ./.\n",
      "\n",
      "\n",
      "\tUnder/in Formby's/np$ plan/nn ,/, an/at appointee/nn would/md be/be selected/vbn by/in a/at board/nn composed/vbn of/in the/at governor/nn ,/, lieutenant/nn governor/nn ,/, speaker/nn of/in the/at House/nn-tl ,/, attorney/nn general/nn and/cc chief/jjs justice/nn of/in the/at Texas/np-tl Supreme/jj-tl Court/nn-tl ./.\n",
      "Austin/np-hl ,/,-hl Texas/np-hl \n",
      "--/-- State/nn representatives/nns decided/vbd Thursday/nr against/in taking/vbg a/at poll/nn on/in what/wdt kind/nn of/in taxes/nns Texans/nps would/md prefer/vb to/to pay/vb ./.\n",
      "\n",
      "\n",
      "\tAn/at adverse/jj vote/nn of/in 81/cd to/in 65/cd kept/vbd in/in the/at State/nn-tl Affairs/nns-tl Committee/nn-tl a/at bill/nn which/wdt would/md order/vb the/at referendum/nn on/in the/at April/np 4/cd ballot/nn ,/, when/wrb Texas/np votes/vbz on/in a/at U.S./np senator/nn ./.\n",
      "\n",
      "\n",
      "\tRep./nn-tl Wesley/np Roberts/np of/in Seminole/np ,/, sponsor/nn of/in the/at poll/nn idea/nn ,/, said/vbd that/cs further/jjr delay/nn in/in the/at committee/nn can/md kill/vb the/at bill/nn ./.\n",
      "\n",
      "\n",
      "\tThe/at West/jj-tl Texan/np-tl reported/vbd that/cs he/pps had/hvd finally/rb gotten/vbn Chairman/nn-tl Bill/np Hollowell/np of/in the/at committee/nn to/to set/vb it/ppo for/in public/jj hearing/nn on/in Feb./np 22/cd ./.\n",
      "The/at proposal/nn would/md have/hv to/to receive/vb final/jj legislative/jj approval/nn ,/, by/in two-thirds/nns majorities/nns ,/, before/in March/np 1/cd to/to be/be printed/vbn on/in the/at April/np 4/cd ballot/nn ,/, Roberts/np said/vbd ./.\n",
      "\n",
      "\n",
      "\tOpponents/nns generally/rb argued/vbd that/cs the/at ballot/nn couldn't/md* give/vb enough/ap information/nn about/in tax/nn proposals/nns for/in the/at voters/nns to/to make/vb an/at intelligent/jj choice/nn ./.\n",
      "\n",
      "\n",
      "\tAll/abn Dallas/np members/nns voted/vbd with/in Roberts/np ,/, except/in Rep./nn-tl Bill/np Jones/np ,/, who/wps was/bedz absent/jj ./.\n",
      "Austin/np-hl ,/,-hl Texas/np-hl \n",
      "--/-- Paradise/nn-tl lost/vbd to/in the/at alleged/vbn water/nn needs/nns of/in Texas'/np$ big/jj cities/nns Thursday/nr ./.\n",
      "\n",
      "\n",
      "\tRep./nn-tl James/np Cotten/np of/in Weatherford/np insisted/vbd that/cs a/at water/nn development/nn bill/nn passed/vbn by/in the/at Texas/np-tl House/nn-tl of/in-tl Representatives/nns-tl was/bedz an/at effort/nn by/in big/jj cities/nns like/cs Dallas/np and/cc Fort/nn-tl Worth/np to/to cover/vb up/rp places/nns like/cs Paradise/nn-tl ,/, a/at Wise/np-tl County/nn-tl hamlet/nn of/in 250/cd people/nns ./.\n",
      "\n",
      "\n",
      "\tWhen/wrb the/at shouting/nn ended/vbd ,/, the/at bill/nn passed/vbd ,/, 114/cd to/in 4/cd ,/, sending/vbg it/ppo to/in the/at Senate/nn-tl ,/, where/wrb a/at similar/jj proposal/nn is/bez being/beg sponsored/vbn by/in Sen./nn-tl George/np Parkhouse/np of/in Dallas/np ./.\n",
      "\n",
      "\n",
      "\tMost/ap of/in the/at fire/nn was/bedz directed/vbn by/in Cotten/np against/in Dallas/np and/cc Sen./nn-tl Parkhouse/np ./.\n",
      "The/at bill/nn would/md increase/vb from/in $5,000,000/nns to/in $15,000,000/nns the/at maximum/jj loan/nn the/at state/nn could/md make/vb to/in a/at local/jj water/nn project/nn ./.\n",
      "\n",
      "\n",
      "\tCotten/np construed/vbd this/dt as/cs a/at veiled/vbn effort/nn by/in Parkhouse/np to/to help/vb Dallas/np and/cc other/ap large/jj cities/nns get/vb money/nn which/wdt Cotten/np felt/vbd could/md better/vb be/be spent/vbn providing/vbg water/nn for/in rural/jj Texas/np ./.\n",
      "\n",
      "\n",
      "\tStatements/nns by/in other/ap legislators/nns that/cs Dallas/np is/bez paying/vbg for/in all/abn its/pp$ water/nn program/nn by/in local/jj bonds/nns ,/, and/cc that/cs less/ql populous/jj places/nns would/md benefit/vb most/rbt by/in the/at pending/jj bill/nn ,/, did/dod not/* sway/vb Cotten's/np$ attack/nn ./.\n",
      "\n",
      "\n",
      "\tThe/at bill's/nn$ defenders/nns were/bed mostly/rb small-town/nn legislators/nns like/cs J./np W./np Buchanan/np of/in Dumas/np ,/, Eligio/np (/( Kika/np )/) De/np La/np Garza/np of/in Mission/nn-tl ,/, Sam/np F./np Collins/np of/in Newton/np and/cc Joe/np Chapman/np of/in Sulphur/nn-tl Springs/nns-tl ./.\n",
      "\n",
      "\n",
      "\t``/`` This/dt is/bez a/at poor/jj boy's/nn$ bill/nn ''/'' ,/, said/vbd Chapman/np ./.\n",
      "``/`` Dallas/np and/cc Fort/nn-tl Worth/np can/md vote/vb bonds/nns ./.\n",
      "This/dt would/md help/vb the/at little/jj peanut/nn districts/nns ''/'' ./.\n",
      "Austin/np-hl ,/,-hl Texas/np-hl \n",
      "--/-- A/at Houston/np teacher/nn ,/, now/rb serving/vbg in/in the/at Legislature/nn-tl ,/, proposed/vbd Thursday/nr a/at law/nn reducing/vbg the/at time/nn spent/vbn learning/vbg ``/`` educational/jj methods/nns ''/'' ./.\n",
      "\n",
      "\n",
      "\tRep./nn-tl Henry/np C./np Grover/np ,/, who/wps teaches/vbz history/nn in/in the/at Houston/np public/jj schools/nns ,/, would/md reduce/vb from/in 24/cd to/in 12/cd semester/nn hours/nns the/at so-called/jj ``/`` teaching/vbg methods/nns ''/'' courses/nns required/vbn to/to obtain/vb a/at junior/jj or/cc senior/jj high/jj school/nn teaching/vbg certificate/nn ./.\n",
      "A/at normal/jj year's/nn$ work/nn in/in college/nn is/bez 30/cd semester/nn hours/nns ./.\n",
      "\n",
      "\n",
      "\tGrover/np also/rb would/md require/vb junior-senior/jj high/nn teachers/nns to/to have/hv at/in least/ap 24/cd semester/nn hours/nns credit/vb in/in the/at subject/nn they/ppss are/ber teaching/vbg ./.\n",
      "The/at remainder/nn of/in the/at 4-year/jj college/nn requirement/nn would/md be/be in/in general/jj subjects/nns ./.\n",
      "\n",
      "\n",
      "\t``/`` A/at person/nn with/in a/at master's/nn$ degree/nn in/in physics/nn ,/, chemistry/nn ,/, math/nn or/cc English/np ,/, yet/rb who/wps has/hvz not/* taken/vbn Education/nn-tl courses/nns ,/, is/bez not/* permitted/vbn to/to teach/vb in/in the/at public/jj schools/nns ''/'' ,/, said/vbd Grover/np ./.\n",
      "\n",
      "\n",
      "\tCollege/nn teachers/nns in/in Texas/np are/ber not/* required/vbn to/to have/hv the/at Education/nn-tl courses/nns ./.\n",
      "\n",
      "\n",
      "\tFifty-three/cd of/in the/at 150/cd representatives/nns immediately/rb joined/vbd Grover/np as/cs co-signers/nns of/in the/at proposal/nn ./.\n",
      "Paris/np-hl ,/,-hl Texas/np-hl (/(-hl sp./nn-hl )/)-hl \n",
      "--/-- The/at board/nn of/in regents/nns of/in Paris/np-tl Junior/jj-tl College/nn-tl has/hvz named/vbn Dr./nn-tl Clarence/np Charles/np Clark/np of/in Hays/np ,/, Kan./np as/cs the/at school's/nn$ new/jj president/nn ./.\n",
      "\n",
      "\n",
      "\tDr./nn-tl Clark/np will/md succeed/vb Dr./nn-tl J./np R./np McLemore/np ,/, who/wps will/md retire/vb at/in the/at close/nn of/in the/at present/jj school/nn term/nn ./.\n",
      "\n",
      "\n",
      "\tDr./nn-tl Clark/np holds/vbz an/at earned/vbn Doctor/nn-tl of/in-tl Education/nn-tl degree/nn from/in the/at University/nn-tl of/in-tl Oklahoma/np-tl ./.\n",
      "He/pps also/rb received/vbd a/at Master/nn-tl of/in-tl Science/nn-tl degree/nn from/in Texas/np A/nn &/cc I/nn College/nn-tl and/cc a/at Bachelor/nn-tl of/in-tl Science/nn-tl degree/nn from/in Southwestern/jj-tl State/nn-tl College/nn-tl ,/, Weatherford/np ,/, Okla./np ./.\n",
      "\n",
      "\n",
      "\tIn/in addition/nn ,/, Dr./nn-tl Clark/np has/hvz studied/vbn at/in Rhode/np-tl Island/nn-tl State/nn-tl College/nn-tl and/cc Massachusetts/np-tl Institute/nn-tl of/in-tl Technology/nn-tl ./.\n",
      "\n",
      "\n",
      "\tDuring/in his/pp$ college/nn career/nn ,/, Dr./nn-tl Clark/np was/bedz captain/nn of/in his/pp$ basketball/nn team/nn and/cc was/bedz a/at football/nn letterman/nn ./.\n",
      "\n",
      "\n",
      "\tDr./nn-tl Clark/np has/hvz served/vbn as/cs teacher/nn and/cc principal/nn in/in Oklahoma/np high/jj schools/nns ,/, as/cs teacher/nn and/cc athletic/jj director/nn at/in Raymondville/np ,/, Texas/np ,/, High/jj-tl School/nn-tl ,/, as/cs an/at instructor/nn at/in the/at University/nn-tl of/in-tl Oklahoma/np-tl ,/, and/cc as/cs an/at associate/jj professor/nn of/in education/nn at/in Fort/nn-tl Hays/np ,/, Kan./np ,/, State/nn-tl College/nn-tl ./.\n",
      "He/pps has/hvz served/vbn as/cs a/at border/nn patrolman/nn and/cc was/bedz in/in the/at Signal/nn-tl Corps/nn-tl of/in the/at U.S./np-tl Army/nn-tl ./.\n",
      "Denton/np-hl ,/,-hl Texas/np-hl (/(-hl sp./nn-hl )/)-hl \n",
      "--/-- Principals/nns of/in the/at 13/cd schools/nns in/in the/at Denton/np-tl Independent/jj-tl School/nn-tl District/nn-tl have/hv been/ben re-elected/vbn for/in the/at 1961-62/cd session/nn upon/in the/at recommendation/nn of/in Supt./nn-tl Chester/np O./np Strickland/np ./.\n",
      "\n",
      "\n",
      "\tState/nn and/cc federal/jj legislation/nn against/in racial/jj discrimination/nn in/in employment/nn was/bedz called/vbn for/in yesterday/nr in/in a/at report/nn of/in a/at ``/`` blue/jj ribbon/nn ''/'' citizens/nns committee/nn on/in the/at aid/nn to/in dependent/jj children/nns program/vb ./.\n",
      "\n",
      "\n",
      "\tThe/at report/nn ,/, culminating/vbg a/at year/nn long/jj study/nn of/in the/at ADC/nn program/nn in/in Cook/np county/nn by/in a/at New/jj-tl York/np-tl City/nn-tl welfare/nn consulting/vbg firm/nn ,/, listed/vbd 10/cd long/jj range/nn recommendations/nns designed/vbn to/to reduce/vb the/at soaring/vbg ADC/nn case/nn load/nn ./.\n",
      "The/at report/nn called/vbd racial/jj discrimination/nn in/in employment/nn ``/`` one/cd of/in the/at most/ql serious/jj causes/nns of/in family/nn breakdown/nn ,/, desertion/nn ,/, and/cc ADC/nn dependency/nn ''/'' ./.\n",
      "\n",
      "\n",
      "\n",
      "``/`` Must/md-hl solve/vb-hl problem/nn-hl ''/'' \n",
      "The/at monthly/jj cost/nn of/in ADC/nn to/in more/ap than/in 100,000/cd recipients/nns in/in the/at county/nn is/bez 4.4/cd million/cd dollars/nns ,/, said/vbd C./np Virgil/np Martin/np ,/, president/nn of/in Carson/np Pirie/np Scott/np &/cc-tl Co./nn-tl ,/, committee/nn chairman/nn ./.\n",
      "\n",
      "\n",
      "\t``/`` We/ppss must/md solve/vb the/at problems/nns which/wdt have/hv forced/vbn these/dts people/nns to/to depend/vb upon/in ADC/nn for/in subsistence/nn ''/'' ,/, Martin/np said/vbd ./.\n",
      "\n",
      "\n",
      "\tThe/at volume/nn of/in ADC/nn cases/nns will/md decrease/vb ,/, Martin/np reported/vbd ,/, when/wrb the/at community/nn is/bez able/jj to/to deal/vb effectively/rb with/in two/cd problems/nns :/: Relatively/rb limited/vbn skills/nns and/cc discrimination/nn in/in employment/nn because/rb of/in color/nn ./.\n",
      "These/dts ,/, he/pps said/vbd ,/, are/ber ``/`` two/cd of/in the/at principal/jjs underlying/vbg causes/nns for/in family/nn breakups/nns leading/vbg to/in ADC/nn ''/'' ./.\n",
      "\n",
      "\n",
      "\n",
      "Calls/vbz-hl for/in-hl extension/nn-hl \n",
      "Other/ap recommendations/nns made/vbn by/in the/at committee/nn are/ber :/: \n",
      "\n",
      "\tExtension/nn of/in the/at ADC/nn program/nn to/in all/abn children/nns in/in need/nn living/vbg with/in any/dti relatives/nns ,/, including/in both/abx parents/nns ,/, as/cs a/at means/nns of/in preserving/vbg family/nn unity/nn ./.\n",
      "\n",
      "\n",
      "\tResearch/nn projects/nns as/ql soon/rb as/cs possible/jj on/in the/at causes/nns and/cc prevention/nn of/in dependency/nn and/cc illegitimacy/nn ./.\n",
      "\n",
      "\n"
     ]
    }
   ],
   "source": [
    "raw_content = cb.raw(\"ca02\")\n",
    "print raw_content"
   ]
  },
  {
   "cell_type": "code",
   "execution_count": 15,
   "metadata": {
    "collapsed": false
   },
   "outputs": [
    {
     "name": "stdout",
     "output_type": "stream",
     "text": [
      "[u'austen-emma.txt', u'austen-persuasion.txt', u'austen-sense.txt', u'bible-kjv.txt', u'blake-poems.txt', u'bryant-stories.txt', u'burgess-busterbrown.txt', u'carroll-alice.txt', u'chesterton-ball.txt', u'chesterton-brown.txt', u'chesterton-thursday.txt', u'edgeworth-parents.txt', u'melville-moby_dick.txt', u'milton-paradise.txt', u'shakespeare-caesar.txt', u'shakespeare-hamlet.txt', u'shakespeare-macbeth.txt', u'whitman-leaves.txt']\n"
     ]
    }
   ],
   "source": [
    "print cg.fileids()"
   ]
  },
  {
   "cell_type": "code",
   "execution_count": 16,
   "metadata": {
    "collapsed": false
   },
   "outputs": [
    {
     "name": "stdout",
     "output_type": "stream",
     "text": [
      "[The Adventures of Buster Bear by Thornton W. Burgess 1920]\r\n",
      "\r\n",
      "I\r\n",
      "\r\n",
      "BUSTER BEAR GOES FISHING\r\n",
      "\r\n",
      "\r\n",
      "Buster Bear yawned as he lay on his comfortable bed of leaves and\r\n",
      "watched the first early morning sunbeams creeping through the Green\r\n",
      "Forest to chase out the Black Shadows. Once more he yawned, and slowly\r\n",
      "got to his feet and shook himself. Then he walked over to a big\r\n",
      "pine-tree, stood up on his hind legs, reached as high up on the trunk of\r\n",
      "the tree as he could, and scratched the bark with his great claws. After\r\n",
      "that he yawned until it seemed as if his jaws would crack, and then sat\r\n",
      "down to think what he wanted for breakfast.\r\n",
      "\r\n",
      "While he sat there, trying to make up his mind what would taste best, he\r\n",
      "was listening to the sounds that told of the waking of all the little\r\n",
      "people who live in the Green Forest. He heard Sammy Jay way off in the\r\n",
      "distance screaming, \"Thief! Thief!\" and grinned. \"I wonder,\" thought\r\n",
      "Buster, \"if some one has stolen Sammy's breakfast, or if he has stolen\r\n",
      "th\n"
     ]
    }
   ],
   "source": [
    "raw_content_cg = cg.raw(\"burgess-busterbrown.txt\")\n",
    "print raw_content_cg[0:1000]"
   ]
  },
  {
   "cell_type": "code",
   "execution_count": 17,
   "metadata": {
    "collapsed": false
   },
   "outputs": [
    {
     "name": "stdout",
     "output_type": "stream",
     "text": [
      "84663\n"
     ]
    }
   ],
   "source": [
    "num_chars_cg =len(cg.raw(\"burgess-busterbrown.txt\"))\n",
    "print num_chars_cg"
   ]
  },
  {
   "cell_type": "code",
   "execution_count": 18,
   "metadata": {
    "collapsed": false
   },
   "outputs": [
    {
     "name": "stdout",
     "output_type": "stream",
     "text": [
      "18963\n"
     ]
    }
   ],
   "source": [
    "num_words = len(cg.words(\"burgess-busterbrown.txt\"))\n",
    "print num_words"
   ]
  },
  {
   "cell_type": "code",
   "execution_count": 19,
   "metadata": {
    "collapsed": false
   },
   "outputs": [
    {
     "name": "stdout",
     "output_type": "stream",
     "text": [
      "1054\n"
     ]
    }
   ],
   "source": [
    "num_sents = len(cg.sents(\"burgess-busterbrown.txt\"))\n",
    "print num_sents"
   ]
  },
  {
   "cell_type": "code",
   "execution_count": 20,
   "metadata": {
    "collapsed": false
   },
   "outputs": [
    {
     "ename": "IOError",
     "evalue": "[Errno 2] No such file or directory: '/home/jalaj/PycharmProjects/NLPython/NLPython/data/customdata.txt'",
     "output_type": "error",
     "traceback": [
      "\u001b[0;31m\u001b[0m",
      "\u001b[0;31mIOError\u001b[0mTraceback (most recent call last)",
      "\u001b[0;32m<ipython-input-20-62b08c280f9f>\u001b[0m in \u001b[0;36m<module>\u001b[0;34m()\u001b[0m\n\u001b[0;32m----> 1\u001b[0;31m \u001b[0mcontents\u001b[0m \u001b[0;34m=\u001b[0m \u001b[0mopen\u001b[0m\u001b[0;34m(\u001b[0m\u001b[0;34m\"/home/jalaj/PycharmProjects/NLPython/NLPython/data/customdata.txt\"\u001b[0m\u001b[0;34m)\u001b[0m\u001b[0;34m.\u001b[0m\u001b[0mread\u001b[0m\u001b[0;34m(\u001b[0m\u001b[0;34m)\u001b[0m\u001b[0;34m\u001b[0m\u001b[0m\n\u001b[0m\u001b[1;32m      2\u001b[0m \u001b[0;32mprint\u001b[0m \u001b[0mlen\u001b[0m\u001b[0;34m(\u001b[0m\u001b[0mcontents\u001b[0m\u001b[0;34m)\u001b[0m\u001b[0;34m\u001b[0m\u001b[0m\n",
      "\u001b[0;31mIOError\u001b[0m: [Errno 2] No such file or directory: '/home/jalaj/PycharmProjects/NLPython/NLPython/data/customdata.txt'"
     ]
    }
   ],
   "source": [
    "contents = open(\"/home/jalaj/PycharmProjects/NLPython/NLPython/data/customdata.txt\").read()\n",
    "print len(contents) "
   ]
  },
  {
   "cell_type": "code",
   "execution_count": 21,
   "metadata": {
    "collapsed": false
   },
   "outputs": [
    {
     "name": "stdout",
     "output_type": "stream",
     "text": [
      "*** Introductory Examples for the NLTK Book ***\n",
      "Loading text1, ..., text9 and sent1, ..., sent9\n",
      "Type the name of the text or sentence to view it.\n",
      "Type: 'texts()' or 'sents()' to list the materials.\n",
      "text1: Moby Dick by Herman Melville 1851\n",
      "text2: Sense and Sensibility by Jane Austen 1811\n",
      "text3: The Book of Genesis\n",
      "text4: Inaugural Address Corpus\n",
      "text5: Chat Corpus\n",
      "text6: Monty Python and the Holy Grail\n",
      "text7: Wall Street Journal\n",
      "text8: Personals Corpus\n",
      "text9: The Man Who Was Thursday by G . K . Chesterton 1908\n",
      "<FreqDist with 19317 samples and 260819 outcomes>\n",
      "[(u',', 18713), (u'the', 13721), (u'.', 6862), (u'of', 6536), (u'and', 6024), (u'a', 4569), (u'to', 4542), (u';', 4072), (u'in', 3916), (u'that', 2982), (u\"'\", 2684), (u'-', 2552), (u'his', 2459), (u'it', 2209), (u'I', 2124), (u's', 1739), (u'is', 1695), (u'he', 1661), (u'with', 1659), (u'was', 1632), (u'as', 1620), (u'\"', 1478), (u'all', 1462), (u'for', 1414), (u'this', 1280), (u'!', 1269), (u'at', 1231), (u'by', 1137), (u'but', 1113), (u'not', 1103), (u'--', 1070), (u'him', 1058), (u'from', 1052), (u'be', 1030), (u'on', 1005), (u'so', 918), (u'whale', 906), (u'one', 889), (u'you', 841), (u'had', 767), (u'have', 760), (u'there', 715), (u'But', 705), (u'or', 697), (u'were', 680), (u'now', 646), (u'which', 640), (u'?', 637), (u'me', 627), (u'like', 624)]\n"
     ]
    }
   ],
   "source": [
    "from nltk.book import *\n",
    "fdist1 = FreqDist(text1)\n",
    "print fdist1\n",
    "print fdist1.most_common(50)"
   ]
  },
  {
   "cell_type": "code",
   "execution_count": 22,
   "metadata": {
    "collapsed": false
   },
   "outputs": [
    {
     "name": "stdout",
     "output_type": "stream",
     "text": [
      "<FreqDist with 7 samples and 11 outcomes>\n"
     ]
    }
   ],
   "source": [
    "import nltk\n",
    "from nltk import FreqDist\n",
    "\n",
    "sentence='''This is my sentence. This is a test sentence.'''\n",
    "tokens = nltk.word_tokenize(sentence)\n",
    "fdist=FreqDist(tokens)\n",
    "print fdist"
   ]
  },
  {
   "cell_type": "code",
   "execution_count": 23,
   "metadata": {
    "collapsed": false
   },
   "outputs": [
    {
     "ename": "NameError",
     "evalue": "name 'contents' is not defined",
     "output_type": "error",
     "traceback": [
      "\u001b[0;31m\u001b[0m",
      "\u001b[0;31mNameError\u001b[0mTraceback (most recent call last)",
      "\u001b[0;32m<ipython-input-23-c882fd9db7f3>\u001b[0m in \u001b[0;36m<module>\u001b[0;34m()\u001b[0m\n\u001b[0;32m----> 1\u001b[0;31m \u001b[0mdata\u001b[0m \u001b[0;34m=\u001b[0m \u001b[0mnltk\u001b[0m\u001b[0;34m.\u001b[0m\u001b[0mword_tokenize\u001b[0m\u001b[0;34m(\u001b[0m\u001b[0mcontents\u001b[0m\u001b[0;34m)\u001b[0m\u001b[0;34m\u001b[0m\u001b[0m\n\u001b[0m\u001b[1;32m      2\u001b[0m \u001b[0mfdist\u001b[0m\u001b[0;34m=\u001b[0m\u001b[0mFreqDist\u001b[0m\u001b[0;34m(\u001b[0m\u001b[0mdata\u001b[0m\u001b[0;34m)\u001b[0m\u001b[0;34m\u001b[0m\u001b[0m\n\u001b[1;32m      3\u001b[0m \u001b[0;32mprint\u001b[0m \u001b[0mfdist\u001b[0m\u001b[0;34m\u001b[0m\u001b[0m\n\u001b[1;32m      4\u001b[0m \u001b[0;32mprint\u001b[0m \u001b[0mfdist\u001b[0m\u001b[0;34m.\u001b[0m\u001b[0mmost_common\u001b[0m\u001b[0;34m(\u001b[0m\u001b[0;36m100\u001b[0m\u001b[0;34m)\u001b[0m\u001b[0;34m\u001b[0m\u001b[0m\n",
      "\u001b[0;31mNameError\u001b[0m: name 'contents' is not defined"
     ]
    }
   ],
   "source": [
    "data = nltk.word_tokenize(contents)\n",
    "fdist=FreqDist(data)\n",
    "print fdist\n",
    "print fdist.most_common(100)"
   ]
  },
  {
   "cell_type": "code",
   "execution_count": null,
   "metadata": {
    "collapsed": true
   },
   "outputs": [],
   "source": []
  }
 ],
 "metadata": {
  "kernelspec": {
   "display_name": "Python 2",
   "language": "python",
   "name": "python2"
  },
  "language_info": {
   "codemirror_mode": {
    "name": "ipython",
    "version": 2
   },
   "file_extension": ".py",
   "mimetype": "text/x-python",
   "name": "python",
   "nbconvert_exporter": "python",
   "pygments_lexer": "ipython2",
   "version": "2.7.12"
  }
 },
 "nbformat": 4,
 "nbformat_minor": 2
}
